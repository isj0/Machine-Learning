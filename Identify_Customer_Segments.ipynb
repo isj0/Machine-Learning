{
 "cells": [
  {
   "cell_type": "markdown",
   "metadata": {},
   "source": [
    "### Prerequsite - Upgrade Scikit Learn\n",
    "The current workspace has scikit-learn v0.19.1 installed. However, you can upgrade scikit-learn to 0.24.x. and use this [OneHotEncoder](https://scikit-learn.org/0.21/modules/generated/sklearn.preprocessing.OneHotEncoder.html) library. \n"
   ]
  },
  {
   "cell_type": "code",
   "execution_count": 1,
   "metadata": {},
   "outputs": [
    {
     "name": "stdout",
     "output_type": "stream",
     "text": [
      "The scikit-learn version is 0.19.1.\n"
     ]
    }
   ],
   "source": [
    "import sklearn\n",
    "print('The scikit-learn version is {}.'.format(sklearn.__version__))"
   ]
  },
  {
   "cell_type": "code",
   "execution_count": 2,
   "metadata": {},
   "outputs": [],
   "source": [
    "import os\n",
    "os.environ['PATH'] = f\"{os.environ['PATH']}:/root/.local/bin\""
   ]
  },
  {
   "cell_type": "raw",
   "metadata": {},
   "source": [
    "Restart the Kernel. "
   ]
  },
  {
   "cell_type": "code",
   "execution_count": 1,
   "metadata": {},
   "outputs": [
    {
     "name": "stdout",
     "output_type": "stream",
     "text": [
      "Collecting scikit-learn\n",
      "\u001b[?25l  Downloading https://files.pythonhosted.org/packages/f5/ef/bcd79e8d59250d6e8478eb1290dc6e05be42b3be8a86e3954146adbc171a/scikit_learn-0.24.2-cp36-cp36m-manylinux1_x86_64.whl (20.0MB)\n",
      "\u001b[K    100% |████████████████████████████████| 20.0MB 1.1MB/s eta 0:00:01\n",
      "\u001b[?25hRequirement already satisfied, skipping upgrade: scipy>=0.19.1 in /opt/conda/lib/python3.6/site-packages (from scikit-learn) (1.2.1)\n",
      "Collecting threadpoolctl>=2.0.0 (from scikit-learn)\n",
      "  Downloading https://files.pythonhosted.org/packages/61/cf/6e354304bcb9c6413c4e02a747b600061c21d38ba51e7e544ac7bc66aecc/threadpoolctl-3.1.0-py3-none-any.whl\n",
      "Collecting numpy>=1.13.3 (from scikit-learn)\n",
      "\u001b[?25l  Downloading https://files.pythonhosted.org/packages/45/b2/6c7545bb7a38754d63048c7696804a0d947328125d81bf12beaa692c3ae3/numpy-1.19.5-cp36-cp36m-manylinux1_x86_64.whl (13.4MB)\n",
      "\u001b[K    100% |████████████████████████████████| 13.4MB 1.7MB/s eta 0:00:01\n",
      "\u001b[?25hRequirement already satisfied, skipping upgrade: joblib>=0.11 in /opt/conda/lib/python3.6/site-packages (from scikit-learn) (0.11)\n",
      "\u001b[31mtensorflow 1.3.0 requires tensorflow-tensorboard<0.2.0,>=0.1.0, which is not installed.\u001b[0m\n",
      "Installing collected packages: threadpoolctl, numpy, scikit-learn\n",
      "  Found existing installation: numpy 1.12.1\n",
      "    Uninstalling numpy-1.12.1:\n",
      "      Successfully uninstalled numpy-1.12.1\n",
      "  Found existing installation: scikit-learn 0.19.1\n",
      "    Uninstalling scikit-learn-0.19.1:\n",
      "      Successfully uninstalled scikit-learn-0.19.1\n",
      "Successfully installed numpy-1.19.5 scikit-learn-0.24.2 threadpoolctl-3.1.0\n",
      "The scikit-learn version is 0.24.2.\n"
     ]
    }
   ],
   "source": [
    "!python -m pip install --upgrade scikit-learn\n",
    "import sklearn\n",
    "print('The scikit-learn version is {}.'.format(sklearn.__version__))"
   ]
  },
  {
   "cell_type": "code",
   "execution_count": 2,
   "metadata": {},
   "outputs": [],
   "source": [
    "# Now you can import and use OneHotEncoder\n",
    "from sklearn.preprocessing import OneHotEncoder\n",
    "# your code goes here"
   ]
  },
  {
   "cell_type": "code",
   "execution_count": 2,
   "metadata": {},
   "outputs": [
    {
     "name": "stdout",
     "output_type": "stream",
     "text": [
      "Collecting tensorflow-tensorboard<0.2.0,>=0.1.0\n",
      "\u001b[?25l  Downloading https://files.pythonhosted.org/packages/93/31/bb4111c3141d22bd7b2b553a26aa0c1863c86cb723919e5bd7847b3de4fc/tensorflow_tensorboard-0.1.8-py3-none-any.whl (1.6MB)\n",
      "\u001b[K    100% |████████████████████████████████| 1.6MB 10.7MB/s ta 0:00:01\n",
      "\u001b[?25hRequirement already satisfied: six>=1.10.0 in /opt/conda/lib/python3.6/site-packages (from tensorflow-tensorboard<0.2.0,>=0.1.0) (1.11.0)\n",
      "Requirement already satisfied: werkzeug>=0.11.10 in /opt/conda/lib/python3.6/site-packages (from tensorflow-tensorboard<0.2.0,>=0.1.0) (0.14.1)\n",
      "Requirement already satisfied: numpy>=1.11.0 in /opt/conda/lib/python3.6/site-packages (from tensorflow-tensorboard<0.2.0,>=0.1.0) (1.19.5)\n",
      "Requirement already satisfied: protobuf>=3.2.0 in /opt/conda/lib/python3.6/site-packages (from tensorflow-tensorboard<0.2.0,>=0.1.0) (3.5.1)\n",
      "Requirement already satisfied: wheel>=0.26 in /opt/conda/lib/python3.6/site-packages (from tensorflow-tensorboard<0.2.0,>=0.1.0) (0.30.0)\n",
      "Requirement already satisfied: markdown>=2.6.8 in /opt/conda/lib/python3.6/site-packages (from tensorflow-tensorboard<0.2.0,>=0.1.0) (2.6.9)\n",
      "Requirement already satisfied: bleach==1.5.0 in /opt/conda/lib/python3.6/site-packages (from tensorflow-tensorboard<0.2.0,>=0.1.0) (1.5.0)\n",
      "Requirement already satisfied: html5lib==0.9999999 in /opt/conda/lib/python3.6/site-packages (from tensorflow-tensorboard<0.2.0,>=0.1.0) (0.9999999)\n",
      "Requirement already satisfied: setuptools in /opt/conda/lib/python3.6/site-packages (from protobuf>=3.2.0->tensorflow-tensorboard<0.2.0,>=0.1.0) (38.4.0)\n",
      "Installing collected packages: tensorflow-tensorboard\n",
      "Successfully installed tensorflow-tensorboard-0.1.8\n",
      "Collecting pandas\n",
      "\u001b[?25l  Downloading https://files.pythonhosted.org/packages/c3/e2/00cacecafbab071c787019f00ad84ca3185952f6bb9bca9550ed83870d4d/pandas-1.1.5-cp36-cp36m-manylinux1_x86_64.whl (9.5MB)\n",
      "\u001b[K    100% |████████████████████████████████| 9.5MB 2.9MB/s eta 0:00:01\n",
      "\u001b[?25hCollecting python-dateutil>=2.7.3 (from pandas)\n",
      "\u001b[?25l  Downloading https://files.pythonhosted.org/packages/ec/57/56b9bcc3c9c6a792fcbaf139543cee77261f3651ca9da0c93f5c1221264b/python_dateutil-2.9.0.post0-py2.py3-none-any.whl (229kB)\n",
      "\u001b[K    100% |████████████████████████████████| 235kB 11.2MB/s ta 0:00:01\n",
      "\u001b[?25hRequirement already satisfied, skipping upgrade: numpy>=1.15.4 in /opt/conda/lib/python3.6/site-packages (from pandas) (1.19.5)\n",
      "Requirement already satisfied, skipping upgrade: pytz>=2017.2 in /opt/conda/lib/python3.6/site-packages (from pandas) (2017.3)\n",
      "Requirement already satisfied, skipping upgrade: six>=1.5 in /opt/conda/lib/python3.6/site-packages (from python-dateutil>=2.7.3->pandas) (1.11.0)\n",
      "Installing collected packages: python-dateutil, pandas\n",
      "  Found existing installation: python-dateutil 2.6.1\n",
      "    Uninstalling python-dateutil-2.6.1:\n",
      "      Successfully uninstalled python-dateutil-2.6.1\n",
      "  Found existing installation: pandas 0.23.3\n",
      "    Uninstalling pandas-0.23.3:\n",
      "      Successfully uninstalled pandas-0.23.3\n",
      "Successfully installed pandas-1.1.5 python-dateutil-2.9.0.post0\n",
      "Collecting kneed\n",
      "  Downloading https://files.pythonhosted.org/packages/9a/1b/7e726d8616e813007874468c61790099ba21493e0ea07561b7d9fc53151c/kneed-0.8.5-py3-none-any.whl\n",
      "Requirement already satisfied: numpy>=1.14.2 in /opt/conda/lib/python3.6/site-packages (from kneed) (1.19.5)\n",
      "Requirement already satisfied: scipy>=1.0.0 in /opt/conda/lib/python3.6/site-packages (from kneed) (1.2.1)\n",
      "Installing collected packages: kneed\n",
      "Successfully installed kneed-0.8.5\n"
     ]
    }
   ],
   "source": [
    "# Similarly, should you need any other package, they can install it as:\n",
    "!python -m pip install 'tensorflow-tensorboard<0.2.0,>=0.1.0'\n",
    "\n",
    "# upgrading pandas and numpy\n",
    "!pip install --upgrade pandas\n",
    "\n",
    "# install kneed - for KneeLocator\n",
    "!pip install kneed"
   ]
  },
  {
   "cell_type": "markdown",
   "metadata": {},
   "source": [
    "# Project: Identify Customer Segments\n",
    "\n",
    "In this project, you will apply unsupervised learning techniques to identify segments of the population that form the core customer base for a mail-order sales company in Germany. These segments can then be used to direct marketing campaigns towards audiences that will have the highest expected rate of returns. The data that you will use has been provided by our partners at Bertelsmann Arvato Analytics, and represents a real-life data science task.\n",
    "\n",
    "This notebook will help you complete this task by providing a framework within which you will perform your analysis steps. In each step of the project, you will see some text describing the subtask that you will perform, followed by one or more code cells for you to complete your work. **Feel free to add additional code and markdown cells as you go along so that you can explore everything in precise chunks.** The code cells provided in the base template will outline only the major tasks, and will usually not be enough to cover all of the minor tasks that comprise it.\n",
    "\n",
    "It should be noted that while there will be precise guidelines on how you should handle certain tasks in the project, there will also be places where an exact specification is not provided. **There will be times in the project where you will need to make and justify your own decisions on how to treat the data.** These are places where there may not be only one way to handle the data. In real-life tasks, there may be many valid ways to approach an analysis task. One of the most important things you can do is clearly document your approach so that other scientists can understand the decisions you've made.\n",
    "\n",
    "At the end of most sections, there will be a Markdown cell labeled **Discussion**. In these cells, you will report your findings for the completed section, as well as document the decisions that you made in your approach to each subtask. **Your project will be evaluated not just on the code used to complete the tasks outlined, but also your communication about your observations and conclusions at each stage.**"
   ]
  },
  {
   "cell_type": "code",
   "execution_count": 3,
   "metadata": {},
   "outputs": [],
   "source": [
    "# import libraries here; add more as necessary\n",
    "import numpy as np\n",
    "import pandas as pd\n",
    "import matplotlib.pyplot as plt\n",
    "import seaborn as sns\n",
    "\n",
    "# magic word for producing visualizations in notebook\n",
    "%matplotlib inline\n",
    "\n",
    "'''\n",
    "Import note: The classroom currently uses sklearn version 0.19.\n",
    "If you need to use an imputer, it is available in sklearn.preprocessing.Imputer,\n",
    "instead of sklearn.impute as in newer versions of sklearn.\n",
    "'''\n",
    "\n",
    "from sklearn.impute import SimpleImputer\n",
    "from sklearn.preprocessing import StandardScaler\n",
    "from sklearn.decomposition import PCA\n",
    "from sklearn.cluster import KMeans\n",
    "from sklearn.metrics import silhouette_score\n",
    "from sklearn.cluster import MiniBatchKMeans\n",
    "from kneed import KneeLocator\n",
    "\n",
    "pd.options.display.max_rows = None\n",
    "pd.options.display.max_columns = None"
   ]
  },
  {
   "cell_type": "markdown",
   "metadata": {},
   "source": [
    "### Step 0: Load the Data\n",
    "\n",
    "There are four files associated with this project (not including this one):\n",
    "\n",
    "- `Udacity_AZDIAS_Subset.csv`: Demographics data for the general population of Germany; 891211 persons (rows) x 85 features (columns).\n",
    "- `Udacity_CUSTOMERS_Subset.csv`: Demographics data for customers of a mail-order company; 191652 persons (rows) x 85 features (columns).\n",
    "- `Data_Dictionary.md`: Detailed information file about the features in the provided datasets.\n",
    "- `AZDIAS_Feature_Summary.csv`: Summary of feature attributes for demographics data; 85 features (rows) x 4 columns\n",
    "\n",
    "Each row of the demographics files represents a single person, but also includes information outside of individuals, including information about their household, building, and neighborhood. You will use this information to cluster the general population into groups with similar demographic properties. Then, you will see how the people in the customers dataset fit into those created clusters. The hope here is that certain clusters are over-represented in the customers data, as compared to the general population; those over-represented clusters will be assumed to be part of the core userbase. This information can then be used for further applications, such as targeting for a marketing campaign.\n",
    "\n",
    "To start off with, load in the demographics data for the general population into a pandas DataFrame, and do the same for the feature attributes summary. Note for all of the `.csv` data files in this project: they're semicolon (`;`) delimited, so you'll need an additional argument in your [`read_csv()`](https://pandas.pydata.org/pandas-docs/stable/generated/pandas.read_csv.html) call to read in the data properly. Also, considering the size of the main dataset, it may take some time for it to load completely.\n",
    "\n",
    "Once the dataset is loaded, it's recommended that you take a little bit of time just browsing the general structure of the dataset and feature summary file. You'll be getting deep into the innards of the cleaning in the first major step of the project, so gaining some general familiarity can help you get your bearings."
   ]
  },
  {
   "cell_type": "code",
   "execution_count": 4,
   "metadata": {},
   "outputs": [],
   "source": [
    "# Load in the general demographics data.\n",
    "azdias = pd.read_csv(\"Udacity_AZDIAS_Subset.csv\", sep=\";\")\n",
    "\n",
    "# Load in the feature summary file.\n",
    "feat_info = pd.read_csv(\"AZDIAS_Feature_Summary.csv\", sep=\";\")"
   ]
  },
  {
   "cell_type": "code",
   "execution_count": 5,
   "metadata": {},
   "outputs": [
    {
     "name": "stdout",
     "output_type": "stream",
     "text": [
      "Number of rows: 891221\n",
      "Number of columns: 85\n"
     ]
    },
    {
     "data": {
      "text/html": [
       "<div>\n",
       "<style scoped>\n",
       "    .dataframe tbody tr th:only-of-type {\n",
       "        vertical-align: middle;\n",
       "    }\n",
       "\n",
       "    .dataframe tbody tr th {\n",
       "        vertical-align: top;\n",
       "    }\n",
       "\n",
       "    .dataframe thead th {\n",
       "        text-align: right;\n",
       "    }\n",
       "</style>\n",
       "<table border=\"1\" class=\"dataframe\">\n",
       "  <thead>\n",
       "    <tr style=\"text-align: right;\">\n",
       "      <th></th>\n",
       "      <th>AGER_TYP</th>\n",
       "      <th>ALTERSKATEGORIE_GROB</th>\n",
       "      <th>ANREDE_KZ</th>\n",
       "      <th>CJT_GESAMTTYP</th>\n",
       "      <th>FINANZ_MINIMALIST</th>\n",
       "      <th>FINANZ_SPARER</th>\n",
       "      <th>FINANZ_VORSORGER</th>\n",
       "      <th>FINANZ_ANLEGER</th>\n",
       "      <th>FINANZ_UNAUFFAELLIGER</th>\n",
       "      <th>FINANZ_HAUSBAUER</th>\n",
       "      <th>FINANZTYP</th>\n",
       "      <th>GEBURTSJAHR</th>\n",
       "      <th>GFK_URLAUBERTYP</th>\n",
       "      <th>GREEN_AVANTGARDE</th>\n",
       "      <th>HEALTH_TYP</th>\n",
       "      <th>LP_LEBENSPHASE_FEIN</th>\n",
       "      <th>LP_LEBENSPHASE_GROB</th>\n",
       "      <th>LP_FAMILIE_FEIN</th>\n",
       "      <th>LP_FAMILIE_GROB</th>\n",
       "      <th>LP_STATUS_FEIN</th>\n",
       "      <th>LP_STATUS_GROB</th>\n",
       "      <th>NATIONALITAET_KZ</th>\n",
       "      <th>PRAEGENDE_JUGENDJAHRE</th>\n",
       "      <th>RETOURTYP_BK_S</th>\n",
       "      <th>SEMIO_SOZ</th>\n",
       "      <th>SEMIO_FAM</th>\n",
       "      <th>SEMIO_REL</th>\n",
       "      <th>SEMIO_MAT</th>\n",
       "      <th>SEMIO_VERT</th>\n",
       "      <th>SEMIO_LUST</th>\n",
       "      <th>SEMIO_ERL</th>\n",
       "      <th>SEMIO_KULT</th>\n",
       "      <th>SEMIO_RAT</th>\n",
       "      <th>SEMIO_KRIT</th>\n",
       "      <th>SEMIO_DOM</th>\n",
       "      <th>SEMIO_KAEM</th>\n",
       "      <th>SEMIO_PFLICHT</th>\n",
       "      <th>SEMIO_TRADV</th>\n",
       "      <th>SHOPPER_TYP</th>\n",
       "      <th>SOHO_KZ</th>\n",
       "      <th>TITEL_KZ</th>\n",
       "      <th>VERS_TYP</th>\n",
       "      <th>ZABEOTYP</th>\n",
       "      <th>ALTER_HH</th>\n",
       "      <th>ANZ_PERSONEN</th>\n",
       "      <th>ANZ_TITEL</th>\n",
       "      <th>HH_EINKOMMEN_SCORE</th>\n",
       "      <th>KK_KUNDENTYP</th>\n",
       "      <th>W_KEIT_KIND_HH</th>\n",
       "      <th>WOHNDAUER_2008</th>\n",
       "      <th>ANZ_HAUSHALTE_AKTIV</th>\n",
       "      <th>ANZ_HH_TITEL</th>\n",
       "      <th>GEBAEUDETYP</th>\n",
       "      <th>KONSUMNAEHE</th>\n",
       "      <th>MIN_GEBAEUDEJAHR</th>\n",
       "      <th>OST_WEST_KZ</th>\n",
       "      <th>WOHNLAGE</th>\n",
       "      <th>CAMEO_DEUG_2015</th>\n",
       "      <th>CAMEO_DEU_2015</th>\n",
       "      <th>CAMEO_INTL_2015</th>\n",
       "      <th>KBA05_ANTG1</th>\n",
       "      <th>KBA05_ANTG2</th>\n",
       "      <th>KBA05_ANTG3</th>\n",
       "      <th>KBA05_ANTG4</th>\n",
       "      <th>KBA05_BAUMAX</th>\n",
       "      <th>KBA05_GBZ</th>\n",
       "      <th>BALLRAUM</th>\n",
       "      <th>EWDICHTE</th>\n",
       "      <th>INNENSTADT</th>\n",
       "      <th>GEBAEUDETYP_RASTER</th>\n",
       "      <th>KKK</th>\n",
       "      <th>MOBI_REGIO</th>\n",
       "      <th>ONLINE_AFFINITAET</th>\n",
       "      <th>REGIOTYP</th>\n",
       "      <th>KBA13_ANZAHL_PKW</th>\n",
       "      <th>PLZ8_ANTG1</th>\n",
       "      <th>PLZ8_ANTG2</th>\n",
       "      <th>PLZ8_ANTG3</th>\n",
       "      <th>PLZ8_ANTG4</th>\n",
       "      <th>PLZ8_BAUMAX</th>\n",
       "      <th>PLZ8_HHZ</th>\n",
       "      <th>PLZ8_GBZ</th>\n",
       "      <th>ARBEIT</th>\n",
       "      <th>ORTSGR_KLS9</th>\n",
       "      <th>RELAT_AB</th>\n",
       "    </tr>\n",
       "  </thead>\n",
       "  <tbody>\n",
       "    <tr>\n",
       "      <th>0</th>\n",
       "      <td>-1</td>\n",
       "      <td>2</td>\n",
       "      <td>1</td>\n",
       "      <td>2.0</td>\n",
       "      <td>3</td>\n",
       "      <td>4</td>\n",
       "      <td>3</td>\n",
       "      <td>5</td>\n",
       "      <td>5</td>\n",
       "      <td>3</td>\n",
       "      <td>4</td>\n",
       "      <td>0</td>\n",
       "      <td>10.0</td>\n",
       "      <td>0</td>\n",
       "      <td>-1</td>\n",
       "      <td>15.0</td>\n",
       "      <td>4.0</td>\n",
       "      <td>2.0</td>\n",
       "      <td>2.0</td>\n",
       "      <td>1.0</td>\n",
       "      <td>1.0</td>\n",
       "      <td>0</td>\n",
       "      <td>0</td>\n",
       "      <td>5.0</td>\n",
       "      <td>2</td>\n",
       "      <td>6</td>\n",
       "      <td>7</td>\n",
       "      <td>5</td>\n",
       "      <td>1</td>\n",
       "      <td>5</td>\n",
       "      <td>3</td>\n",
       "      <td>3</td>\n",
       "      <td>4</td>\n",
       "      <td>7</td>\n",
       "      <td>6</td>\n",
       "      <td>6</td>\n",
       "      <td>5</td>\n",
       "      <td>3</td>\n",
       "      <td>-1</td>\n",
       "      <td>NaN</td>\n",
       "      <td>NaN</td>\n",
       "      <td>-1</td>\n",
       "      <td>3</td>\n",
       "      <td>NaN</td>\n",
       "      <td>NaN</td>\n",
       "      <td>NaN</td>\n",
       "      <td>2.0</td>\n",
       "      <td>NaN</td>\n",
       "      <td>NaN</td>\n",
       "      <td>NaN</td>\n",
       "      <td>NaN</td>\n",
       "      <td>NaN</td>\n",
       "      <td>NaN</td>\n",
       "      <td>NaN</td>\n",
       "      <td>NaN</td>\n",
       "      <td>NaN</td>\n",
       "      <td>NaN</td>\n",
       "      <td>NaN</td>\n",
       "      <td>NaN</td>\n",
       "      <td>NaN</td>\n",
       "      <td>NaN</td>\n",
       "      <td>NaN</td>\n",
       "      <td>NaN</td>\n",
       "      <td>NaN</td>\n",
       "      <td>NaN</td>\n",
       "      <td>NaN</td>\n",
       "      <td>NaN</td>\n",
       "      <td>NaN</td>\n",
       "      <td>NaN</td>\n",
       "      <td>NaN</td>\n",
       "      <td>NaN</td>\n",
       "      <td>NaN</td>\n",
       "      <td>1.0</td>\n",
       "      <td>NaN</td>\n",
       "      <td>NaN</td>\n",
       "      <td>NaN</td>\n",
       "      <td>NaN</td>\n",
       "      <td>NaN</td>\n",
       "      <td>NaN</td>\n",
       "      <td>NaN</td>\n",
       "      <td>NaN</td>\n",
       "      <td>NaN</td>\n",
       "      <td>NaN</td>\n",
       "      <td>NaN</td>\n",
       "      <td>NaN</td>\n",
       "    </tr>\n",
       "    <tr>\n",
       "      <th>1</th>\n",
       "      <td>-1</td>\n",
       "      <td>1</td>\n",
       "      <td>2</td>\n",
       "      <td>5.0</td>\n",
       "      <td>1</td>\n",
       "      <td>5</td>\n",
       "      <td>2</td>\n",
       "      <td>5</td>\n",
       "      <td>4</td>\n",
       "      <td>5</td>\n",
       "      <td>1</td>\n",
       "      <td>1996</td>\n",
       "      <td>10.0</td>\n",
       "      <td>0</td>\n",
       "      <td>3</td>\n",
       "      <td>21.0</td>\n",
       "      <td>6.0</td>\n",
       "      <td>5.0</td>\n",
       "      <td>3.0</td>\n",
       "      <td>2.0</td>\n",
       "      <td>1.0</td>\n",
       "      <td>1</td>\n",
       "      <td>14</td>\n",
       "      <td>1.0</td>\n",
       "      <td>5</td>\n",
       "      <td>4</td>\n",
       "      <td>4</td>\n",
       "      <td>3</td>\n",
       "      <td>1</td>\n",
       "      <td>2</td>\n",
       "      <td>2</td>\n",
       "      <td>3</td>\n",
       "      <td>6</td>\n",
       "      <td>4</td>\n",
       "      <td>7</td>\n",
       "      <td>4</td>\n",
       "      <td>7</td>\n",
       "      <td>6</td>\n",
       "      <td>3</td>\n",
       "      <td>1.0</td>\n",
       "      <td>0.0</td>\n",
       "      <td>2</td>\n",
       "      <td>5</td>\n",
       "      <td>0.0</td>\n",
       "      <td>2.0</td>\n",
       "      <td>0.0</td>\n",
       "      <td>6.0</td>\n",
       "      <td>NaN</td>\n",
       "      <td>3.0</td>\n",
       "      <td>9.0</td>\n",
       "      <td>11.0</td>\n",
       "      <td>0.0</td>\n",
       "      <td>8.0</td>\n",
       "      <td>1.0</td>\n",
       "      <td>1992.0</td>\n",
       "      <td>W</td>\n",
       "      <td>4.0</td>\n",
       "      <td>8</td>\n",
       "      <td>8A</td>\n",
       "      <td>51</td>\n",
       "      <td>0.0</td>\n",
       "      <td>0.0</td>\n",
       "      <td>0.0</td>\n",
       "      <td>2.0</td>\n",
       "      <td>5.0</td>\n",
       "      <td>1.0</td>\n",
       "      <td>6.0</td>\n",
       "      <td>3.0</td>\n",
       "      <td>8.0</td>\n",
       "      <td>3.0</td>\n",
       "      <td>2.0</td>\n",
       "      <td>1.0</td>\n",
       "      <td>3.0</td>\n",
       "      <td>3.0</td>\n",
       "      <td>963.0</td>\n",
       "      <td>2.0</td>\n",
       "      <td>3.0</td>\n",
       "      <td>2.0</td>\n",
       "      <td>1.0</td>\n",
       "      <td>1.0</td>\n",
       "      <td>5.0</td>\n",
       "      <td>4.0</td>\n",
       "      <td>3.0</td>\n",
       "      <td>5.0</td>\n",
       "      <td>4.0</td>\n",
       "    </tr>\n",
       "    <tr>\n",
       "      <th>2</th>\n",
       "      <td>-1</td>\n",
       "      <td>3</td>\n",
       "      <td>2</td>\n",
       "      <td>3.0</td>\n",
       "      <td>1</td>\n",
       "      <td>4</td>\n",
       "      <td>1</td>\n",
       "      <td>2</td>\n",
       "      <td>3</td>\n",
       "      <td>5</td>\n",
       "      <td>1</td>\n",
       "      <td>1979</td>\n",
       "      <td>10.0</td>\n",
       "      <td>1</td>\n",
       "      <td>3</td>\n",
       "      <td>3.0</td>\n",
       "      <td>1.0</td>\n",
       "      <td>1.0</td>\n",
       "      <td>1.0</td>\n",
       "      <td>3.0</td>\n",
       "      <td>2.0</td>\n",
       "      <td>1</td>\n",
       "      <td>15</td>\n",
       "      <td>3.0</td>\n",
       "      <td>4</td>\n",
       "      <td>1</td>\n",
       "      <td>3</td>\n",
       "      <td>3</td>\n",
       "      <td>4</td>\n",
       "      <td>4</td>\n",
       "      <td>6</td>\n",
       "      <td>3</td>\n",
       "      <td>4</td>\n",
       "      <td>7</td>\n",
       "      <td>7</td>\n",
       "      <td>7</td>\n",
       "      <td>3</td>\n",
       "      <td>3</td>\n",
       "      <td>2</td>\n",
       "      <td>0.0</td>\n",
       "      <td>0.0</td>\n",
       "      <td>1</td>\n",
       "      <td>5</td>\n",
       "      <td>17.0</td>\n",
       "      <td>1.0</td>\n",
       "      <td>0.0</td>\n",
       "      <td>4.0</td>\n",
       "      <td>NaN</td>\n",
       "      <td>3.0</td>\n",
       "      <td>9.0</td>\n",
       "      <td>10.0</td>\n",
       "      <td>0.0</td>\n",
       "      <td>1.0</td>\n",
       "      <td>5.0</td>\n",
       "      <td>1992.0</td>\n",
       "      <td>W</td>\n",
       "      <td>2.0</td>\n",
       "      <td>4</td>\n",
       "      <td>4C</td>\n",
       "      <td>24</td>\n",
       "      <td>1.0</td>\n",
       "      <td>3.0</td>\n",
       "      <td>1.0</td>\n",
       "      <td>0.0</td>\n",
       "      <td>0.0</td>\n",
       "      <td>3.0</td>\n",
       "      <td>2.0</td>\n",
       "      <td>4.0</td>\n",
       "      <td>4.0</td>\n",
       "      <td>4.0</td>\n",
       "      <td>2.0</td>\n",
       "      <td>3.0</td>\n",
       "      <td>2.0</td>\n",
       "      <td>2.0</td>\n",
       "      <td>712.0</td>\n",
       "      <td>3.0</td>\n",
       "      <td>3.0</td>\n",
       "      <td>1.0</td>\n",
       "      <td>0.0</td>\n",
       "      <td>1.0</td>\n",
       "      <td>4.0</td>\n",
       "      <td>4.0</td>\n",
       "      <td>3.0</td>\n",
       "      <td>5.0</td>\n",
       "      <td>2.0</td>\n",
       "    </tr>\n",
       "    <tr>\n",
       "      <th>3</th>\n",
       "      <td>2</td>\n",
       "      <td>4</td>\n",
       "      <td>2</td>\n",
       "      <td>2.0</td>\n",
       "      <td>4</td>\n",
       "      <td>2</td>\n",
       "      <td>5</td>\n",
       "      <td>2</td>\n",
       "      <td>1</td>\n",
       "      <td>2</td>\n",
       "      <td>6</td>\n",
       "      <td>1957</td>\n",
       "      <td>1.0</td>\n",
       "      <td>0</td>\n",
       "      <td>2</td>\n",
       "      <td>0.0</td>\n",
       "      <td>0.0</td>\n",
       "      <td>0.0</td>\n",
       "      <td>0.0</td>\n",
       "      <td>9.0</td>\n",
       "      <td>4.0</td>\n",
       "      <td>1</td>\n",
       "      <td>8</td>\n",
       "      <td>2.0</td>\n",
       "      <td>5</td>\n",
       "      <td>1</td>\n",
       "      <td>2</td>\n",
       "      <td>1</td>\n",
       "      <td>4</td>\n",
       "      <td>4</td>\n",
       "      <td>7</td>\n",
       "      <td>4</td>\n",
       "      <td>3</td>\n",
       "      <td>4</td>\n",
       "      <td>4</td>\n",
       "      <td>5</td>\n",
       "      <td>4</td>\n",
       "      <td>4</td>\n",
       "      <td>1</td>\n",
       "      <td>0.0</td>\n",
       "      <td>0.0</td>\n",
       "      <td>1</td>\n",
       "      <td>3</td>\n",
       "      <td>13.0</td>\n",
       "      <td>0.0</td>\n",
       "      <td>0.0</td>\n",
       "      <td>1.0</td>\n",
       "      <td>NaN</td>\n",
       "      <td>NaN</td>\n",
       "      <td>9.0</td>\n",
       "      <td>1.0</td>\n",
       "      <td>0.0</td>\n",
       "      <td>1.0</td>\n",
       "      <td>4.0</td>\n",
       "      <td>1997.0</td>\n",
       "      <td>W</td>\n",
       "      <td>7.0</td>\n",
       "      <td>2</td>\n",
       "      <td>2A</td>\n",
       "      <td>12</td>\n",
       "      <td>4.0</td>\n",
       "      <td>1.0</td>\n",
       "      <td>0.0</td>\n",
       "      <td>0.0</td>\n",
       "      <td>1.0</td>\n",
       "      <td>4.0</td>\n",
       "      <td>4.0</td>\n",
       "      <td>2.0</td>\n",
       "      <td>6.0</td>\n",
       "      <td>4.0</td>\n",
       "      <td>0.0</td>\n",
       "      <td>4.0</td>\n",
       "      <td>1.0</td>\n",
       "      <td>0.0</td>\n",
       "      <td>596.0</td>\n",
       "      <td>2.0</td>\n",
       "      <td>2.0</td>\n",
       "      <td>2.0</td>\n",
       "      <td>0.0</td>\n",
       "      <td>1.0</td>\n",
       "      <td>3.0</td>\n",
       "      <td>4.0</td>\n",
       "      <td>2.0</td>\n",
       "      <td>3.0</td>\n",
       "      <td>3.0</td>\n",
       "    </tr>\n",
       "    <tr>\n",
       "      <th>4</th>\n",
       "      <td>-1</td>\n",
       "      <td>3</td>\n",
       "      <td>1</td>\n",
       "      <td>5.0</td>\n",
       "      <td>4</td>\n",
       "      <td>3</td>\n",
       "      <td>4</td>\n",
       "      <td>1</td>\n",
       "      <td>3</td>\n",
       "      <td>2</td>\n",
       "      <td>5</td>\n",
       "      <td>1963</td>\n",
       "      <td>5.0</td>\n",
       "      <td>0</td>\n",
       "      <td>3</td>\n",
       "      <td>32.0</td>\n",
       "      <td>10.0</td>\n",
       "      <td>10.0</td>\n",
       "      <td>5.0</td>\n",
       "      <td>3.0</td>\n",
       "      <td>2.0</td>\n",
       "      <td>1</td>\n",
       "      <td>8</td>\n",
       "      <td>5.0</td>\n",
       "      <td>6</td>\n",
       "      <td>4</td>\n",
       "      <td>4</td>\n",
       "      <td>2</td>\n",
       "      <td>7</td>\n",
       "      <td>4</td>\n",
       "      <td>4</td>\n",
       "      <td>6</td>\n",
       "      <td>2</td>\n",
       "      <td>3</td>\n",
       "      <td>2</td>\n",
       "      <td>2</td>\n",
       "      <td>4</td>\n",
       "      <td>2</td>\n",
       "      <td>2</td>\n",
       "      <td>0.0</td>\n",
       "      <td>0.0</td>\n",
       "      <td>2</td>\n",
       "      <td>4</td>\n",
       "      <td>20.0</td>\n",
       "      <td>4.0</td>\n",
       "      <td>0.0</td>\n",
       "      <td>5.0</td>\n",
       "      <td>1.0</td>\n",
       "      <td>2.0</td>\n",
       "      <td>9.0</td>\n",
       "      <td>3.0</td>\n",
       "      <td>0.0</td>\n",
       "      <td>1.0</td>\n",
       "      <td>4.0</td>\n",
       "      <td>1992.0</td>\n",
       "      <td>W</td>\n",
       "      <td>3.0</td>\n",
       "      <td>6</td>\n",
       "      <td>6B</td>\n",
       "      <td>43</td>\n",
       "      <td>1.0</td>\n",
       "      <td>4.0</td>\n",
       "      <td>1.0</td>\n",
       "      <td>0.0</td>\n",
       "      <td>0.0</td>\n",
       "      <td>3.0</td>\n",
       "      <td>2.0</td>\n",
       "      <td>5.0</td>\n",
       "      <td>1.0</td>\n",
       "      <td>5.0</td>\n",
       "      <td>3.0</td>\n",
       "      <td>3.0</td>\n",
       "      <td>5.0</td>\n",
       "      <td>5.0</td>\n",
       "      <td>435.0</td>\n",
       "      <td>2.0</td>\n",
       "      <td>4.0</td>\n",
       "      <td>2.0</td>\n",
       "      <td>1.0</td>\n",
       "      <td>2.0</td>\n",
       "      <td>3.0</td>\n",
       "      <td>3.0</td>\n",
       "      <td>4.0</td>\n",
       "      <td>6.0</td>\n",
       "      <td>5.0</td>\n",
       "    </tr>\n",
       "  </tbody>\n",
       "</table>\n",
       "</div>"
      ],
      "text/plain": [
       "   AGER_TYP  ALTERSKATEGORIE_GROB  ANREDE_KZ  CJT_GESAMTTYP  \\\n",
       "0        -1                     2          1            2.0   \n",
       "1        -1                     1          2            5.0   \n",
       "2        -1                     3          2            3.0   \n",
       "3         2                     4          2            2.0   \n",
       "4        -1                     3          1            5.0   \n",
       "\n",
       "   FINANZ_MINIMALIST  FINANZ_SPARER  FINANZ_VORSORGER  FINANZ_ANLEGER  \\\n",
       "0                  3              4                 3               5   \n",
       "1                  1              5                 2               5   \n",
       "2                  1              4                 1               2   \n",
       "3                  4              2                 5               2   \n",
       "4                  4              3                 4               1   \n",
       "\n",
       "   FINANZ_UNAUFFAELLIGER  FINANZ_HAUSBAUER  FINANZTYP  GEBURTSJAHR  \\\n",
       "0                      5                 3          4            0   \n",
       "1                      4                 5          1         1996   \n",
       "2                      3                 5          1         1979   \n",
       "3                      1                 2          6         1957   \n",
       "4                      3                 2          5         1963   \n",
       "\n",
       "   GFK_URLAUBERTYP  GREEN_AVANTGARDE  HEALTH_TYP  LP_LEBENSPHASE_FEIN  \\\n",
       "0             10.0                 0          -1                 15.0   \n",
       "1             10.0                 0           3                 21.0   \n",
       "2             10.0                 1           3                  3.0   \n",
       "3              1.0                 0           2                  0.0   \n",
       "4              5.0                 0           3                 32.0   \n",
       "\n",
       "   LP_LEBENSPHASE_GROB  LP_FAMILIE_FEIN  LP_FAMILIE_GROB  LP_STATUS_FEIN  \\\n",
       "0                  4.0              2.0              2.0             1.0   \n",
       "1                  6.0              5.0              3.0             2.0   \n",
       "2                  1.0              1.0              1.0             3.0   \n",
       "3                  0.0              0.0              0.0             9.0   \n",
       "4                 10.0             10.0              5.0             3.0   \n",
       "\n",
       "   LP_STATUS_GROB  NATIONALITAET_KZ  PRAEGENDE_JUGENDJAHRE  RETOURTYP_BK_S  \\\n",
       "0             1.0                 0                      0             5.0   \n",
       "1             1.0                 1                     14             1.0   \n",
       "2             2.0                 1                     15             3.0   \n",
       "3             4.0                 1                      8             2.0   \n",
       "4             2.0                 1                      8             5.0   \n",
       "\n",
       "   SEMIO_SOZ  SEMIO_FAM  SEMIO_REL  SEMIO_MAT  SEMIO_VERT  SEMIO_LUST  \\\n",
       "0          2          6          7          5           1           5   \n",
       "1          5          4          4          3           1           2   \n",
       "2          4          1          3          3           4           4   \n",
       "3          5          1          2          1           4           4   \n",
       "4          6          4          4          2           7           4   \n",
       "\n",
       "   SEMIO_ERL  SEMIO_KULT  SEMIO_RAT  SEMIO_KRIT  SEMIO_DOM  SEMIO_KAEM  \\\n",
       "0          3           3          4           7          6           6   \n",
       "1          2           3          6           4          7           4   \n",
       "2          6           3          4           7          7           7   \n",
       "3          7           4          3           4          4           5   \n",
       "4          4           6          2           3          2           2   \n",
       "\n",
       "   SEMIO_PFLICHT  SEMIO_TRADV  SHOPPER_TYP  SOHO_KZ  TITEL_KZ  VERS_TYP  \\\n",
       "0              5            3           -1      NaN       NaN        -1   \n",
       "1              7            6            3      1.0       0.0         2   \n",
       "2              3            3            2      0.0       0.0         1   \n",
       "3              4            4            1      0.0       0.0         1   \n",
       "4              4            2            2      0.0       0.0         2   \n",
       "\n",
       "   ZABEOTYP  ALTER_HH  ANZ_PERSONEN  ANZ_TITEL  HH_EINKOMMEN_SCORE  \\\n",
       "0         3       NaN           NaN        NaN                 2.0   \n",
       "1         5       0.0           2.0        0.0                 6.0   \n",
       "2         5      17.0           1.0        0.0                 4.0   \n",
       "3         3      13.0           0.0        0.0                 1.0   \n",
       "4         4      20.0           4.0        0.0                 5.0   \n",
       "\n",
       "   KK_KUNDENTYP  W_KEIT_KIND_HH  WOHNDAUER_2008  ANZ_HAUSHALTE_AKTIV  \\\n",
       "0           NaN             NaN             NaN                  NaN   \n",
       "1           NaN             3.0             9.0                 11.0   \n",
       "2           NaN             3.0             9.0                 10.0   \n",
       "3           NaN             NaN             9.0                  1.0   \n",
       "4           1.0             2.0             9.0                  3.0   \n",
       "\n",
       "   ANZ_HH_TITEL  GEBAEUDETYP  KONSUMNAEHE  MIN_GEBAEUDEJAHR OST_WEST_KZ  \\\n",
       "0           NaN          NaN          NaN               NaN         NaN   \n",
       "1           0.0          8.0          1.0            1992.0           W   \n",
       "2           0.0          1.0          5.0            1992.0           W   \n",
       "3           0.0          1.0          4.0            1997.0           W   \n",
       "4           0.0          1.0          4.0            1992.0           W   \n",
       "\n",
       "   WOHNLAGE CAMEO_DEUG_2015 CAMEO_DEU_2015 CAMEO_INTL_2015  KBA05_ANTG1  \\\n",
       "0       NaN             NaN            NaN             NaN          NaN   \n",
       "1       4.0               8             8A              51          0.0   \n",
       "2       2.0               4             4C              24          1.0   \n",
       "3       7.0               2             2A              12          4.0   \n",
       "4       3.0               6             6B              43          1.0   \n",
       "\n",
       "   KBA05_ANTG2  KBA05_ANTG3  KBA05_ANTG4  KBA05_BAUMAX  KBA05_GBZ  BALLRAUM  \\\n",
       "0          NaN          NaN          NaN           NaN        NaN       NaN   \n",
       "1          0.0          0.0          2.0           5.0        1.0       6.0   \n",
       "2          3.0          1.0          0.0           0.0        3.0       2.0   \n",
       "3          1.0          0.0          0.0           1.0        4.0       4.0   \n",
       "4          4.0          1.0          0.0           0.0        3.0       2.0   \n",
       "\n",
       "   EWDICHTE  INNENSTADT  GEBAEUDETYP_RASTER  KKK  MOBI_REGIO  \\\n",
       "0       NaN         NaN                 NaN  NaN         NaN   \n",
       "1       3.0         8.0                 3.0  2.0         1.0   \n",
       "2       4.0         4.0                 4.0  2.0         3.0   \n",
       "3       2.0         6.0                 4.0  0.0         4.0   \n",
       "4       5.0         1.0                 5.0  3.0         3.0   \n",
       "\n",
       "   ONLINE_AFFINITAET  REGIOTYP  KBA13_ANZAHL_PKW  PLZ8_ANTG1  PLZ8_ANTG2  \\\n",
       "0                1.0       NaN               NaN         NaN         NaN   \n",
       "1                3.0       3.0             963.0         2.0         3.0   \n",
       "2                2.0       2.0             712.0         3.0         3.0   \n",
       "3                1.0       0.0             596.0         2.0         2.0   \n",
       "4                5.0       5.0             435.0         2.0         4.0   \n",
       "\n",
       "   PLZ8_ANTG3  PLZ8_ANTG4  PLZ8_BAUMAX  PLZ8_HHZ  PLZ8_GBZ  ARBEIT  \\\n",
       "0         NaN         NaN          NaN       NaN       NaN     NaN   \n",
       "1         2.0         1.0          1.0       5.0       4.0     3.0   \n",
       "2         1.0         0.0          1.0       4.0       4.0     3.0   \n",
       "3         2.0         0.0          1.0       3.0       4.0     2.0   \n",
       "4         2.0         1.0          2.0       3.0       3.0     4.0   \n",
       "\n",
       "   ORTSGR_KLS9  RELAT_AB  \n",
       "0          NaN       NaN  \n",
       "1          5.0       4.0  \n",
       "2          5.0       2.0  \n",
       "3          3.0       3.0  \n",
       "4          6.0       5.0  "
      ]
     },
     "execution_count": 5,
     "metadata": {},
     "output_type": "execute_result"
    }
   ],
   "source": [
    "# Check the structure of the azdias data after it's loaded (e.g. print the number of\n",
    "# rows and columns, print the first few rows).\n",
    "\n",
    "print(f\"Number of rows: {azdias.shape[0]}\")\n",
    "print(f\"Number of columns: {azdias.shape[1]}\")\n",
    "azdias.head()"
   ]
  },
  {
   "cell_type": "code",
   "execution_count": 6,
   "metadata": {},
   "outputs": [
    {
     "name": "stdout",
     "output_type": "stream",
     "text": [
      "Number of rows: 85\n",
      "Number of columns: 4\n"
     ]
    },
    {
     "data": {
      "text/html": [
       "<div>\n",
       "<style scoped>\n",
       "    .dataframe tbody tr th:only-of-type {\n",
       "        vertical-align: middle;\n",
       "    }\n",
       "\n",
       "    .dataframe tbody tr th {\n",
       "        vertical-align: top;\n",
       "    }\n",
       "\n",
       "    .dataframe thead th {\n",
       "        text-align: right;\n",
       "    }\n",
       "</style>\n",
       "<table border=\"1\" class=\"dataframe\">\n",
       "  <thead>\n",
       "    <tr style=\"text-align: right;\">\n",
       "      <th></th>\n",
       "      <th>attribute</th>\n",
       "      <th>information_level</th>\n",
       "      <th>type</th>\n",
       "      <th>missing_or_unknown</th>\n",
       "    </tr>\n",
       "  </thead>\n",
       "  <tbody>\n",
       "    <tr>\n",
       "      <th>0</th>\n",
       "      <td>AGER_TYP</td>\n",
       "      <td>person</td>\n",
       "      <td>categorical</td>\n",
       "      <td>[-1,0]</td>\n",
       "    </tr>\n",
       "    <tr>\n",
       "      <th>1</th>\n",
       "      <td>ALTERSKATEGORIE_GROB</td>\n",
       "      <td>person</td>\n",
       "      <td>ordinal</td>\n",
       "      <td>[-1,0,9]</td>\n",
       "    </tr>\n",
       "    <tr>\n",
       "      <th>2</th>\n",
       "      <td>ANREDE_KZ</td>\n",
       "      <td>person</td>\n",
       "      <td>categorical</td>\n",
       "      <td>[-1,0]</td>\n",
       "    </tr>\n",
       "    <tr>\n",
       "      <th>3</th>\n",
       "      <td>CJT_GESAMTTYP</td>\n",
       "      <td>person</td>\n",
       "      <td>categorical</td>\n",
       "      <td>[0]</td>\n",
       "    </tr>\n",
       "    <tr>\n",
       "      <th>4</th>\n",
       "      <td>FINANZ_MINIMALIST</td>\n",
       "      <td>person</td>\n",
       "      <td>ordinal</td>\n",
       "      <td>[-1]</td>\n",
       "    </tr>\n",
       "  </tbody>\n",
       "</table>\n",
       "</div>"
      ],
      "text/plain": [
       "              attribute information_level         type missing_or_unknown\n",
       "0              AGER_TYP            person  categorical             [-1,0]\n",
       "1  ALTERSKATEGORIE_GROB            person      ordinal           [-1,0,9]\n",
       "2             ANREDE_KZ            person  categorical             [-1,0]\n",
       "3         CJT_GESAMTTYP            person  categorical                [0]\n",
       "4     FINANZ_MINIMALIST            person      ordinal               [-1]"
      ]
     },
     "execution_count": 6,
     "metadata": {},
     "output_type": "execute_result"
    }
   ],
   "source": [
    "# Check the structure of the features data after it's loaded (e.g. print the number of\n",
    "# rows and columns, print the first few rows).\n",
    "\n",
    "print(f\"Number of rows: {feat_info.shape[0]}\")\n",
    "print(f\"Number of columns: {feat_info.shape[1]}\")\n",
    "feat_info.head()"
   ]
  },
  {
   "cell_type": "markdown",
   "metadata": {},
   "source": [
    "> **Tip**: Add additional cells to keep everything in reasonably-sized chunks! Keyboard shortcut `esc --> a` (press escape to enter command mode, then press the 'A' key) adds a new cell before the active cell, and `esc --> b` adds a new cell after the active cell. If you need to convert an active cell to a markdown cell, use `esc --> m` and to convert to a code cell, use `esc --> y`. \n",
    "\n",
    "## Step 1: Preprocessing\n",
    "\n",
    "### Step 1.1: Assess Missing Data\n",
    "\n",
    "The feature summary file contains a summary of properties for each demographics data column. You will use this file to help you make cleaning decisions during this stage of the project. First of all, you should assess the demographics data in terms of missing data. Pay attention to the following points as you perform your analysis, and take notes on what you observe. Make sure that you fill in the **Discussion** cell with your findings and decisions at the end of each step that has one!\n",
    "\n",
    "#### Step 1.1.1: Convert Missing Value Codes to NaNs\n",
    "The fourth column of the feature attributes summary (loaded in above as `feat_info`) documents the codes from the data dictionary that indicate missing or unknown data. While the file encodes this as a list (e.g. `[-1,0]`), this will get read in as a string object. You'll need to do a little bit of parsing to make use of it to identify and clean the data. Convert data that matches a 'missing' or 'unknown' value code into a numpy NaN value. You might want to see how much data takes on a 'missing' or 'unknown' code, and how much data is naturally missing, as a point of interest.\n",
    "\n",
    "**As one more reminder, you are encouraged to add additional cells to break up your analysis into manageable chunks.**"
   ]
  },
  {
   "cell_type": "code",
   "execution_count": 7,
   "metadata": {},
   "outputs": [
    {
     "name": "stdout",
     "output_type": "stream",
     "text": [
      "Total missing values:  4896838\n"
     ]
    }
   ],
   "source": [
    "# Missing values in azdias\n",
    "\n",
    "print(\"Total missing values: \", azdias.isnull().sum().sum())"
   ]
  },
  {
   "cell_type": "code",
   "execution_count": 8,
   "metadata": {},
   "outputs": [],
   "source": [
    "# Identify missing or unknown data values and convert them to NaNs.\n",
    "\n",
    "\n",
    "for attribute, missing_index in zip(feat_info[\"attribute\"], feat_info[\"missing_or_unknown\"]):\n",
    "    missing_values = missing_index.strip(\"[]\").split(\",\")\n",
    "    missing_values = [int(value) for value in missing_values if value.strip() not in [\"X\", \"XX\", \"\"]]\n",
    "    # replacing missing values with Nan\n",
    "    azdias[attribute] = azdias[attribute].replace(missing_values, np.nan)"
   ]
  },
  {
   "cell_type": "code",
   "execution_count": 9,
   "metadata": {},
   "outputs": [
    {
     "name": "stdout",
     "output_type": "stream",
     "text": [
      "Nan values after conversion:  8372810\n"
     ]
    }
   ],
   "source": [
    "# total nan values after conversion\n",
    "\n",
    "print(\"Nan values after conversion: \", azdias.isna().sum().sum())"
   ]
  },
  {
   "cell_type": "markdown",
   "metadata": {},
   "source": [
    "#### Step 1.1.2: Assess Missing Data in Each Column\n",
    "\n",
    "How much missing data is present in each column? There are a few columns that are outliers in terms of the proportion of values that are missing. You will want to use matplotlib's [`hist()`](https://matplotlib.org/api/_as_gen/matplotlib.pyplot.hist.html) function to visualize the distribution of missing value counts to find these columns. Identify and document these columns. While some of these columns might have justifications for keeping or re-encoding the data, for this project you should just remove them from the dataframe. (Feel free to make remarks about these outlier columns in the discussion, however!)\n",
    "\n",
    "For the remaining features, are there any patterns in which columns have, or share, missing data?"
   ]
  },
  {
   "cell_type": "code",
   "execution_count": 10,
   "metadata": {},
   "outputs": [
    {
     "data": {
      "text/plain": [
       "TITEL_KZ                 889061\n",
       "AGER_TYP                 685843\n",
       "KK_KUNDENTYP             584612\n",
       "KBA05_BAUMAX             476524\n",
       "GEBURTSJAHR              392318\n",
       "ALTER_HH                 310267\n",
       "REGIOTYP                 158064\n",
       "KKK                      158064\n",
       "W_KEIT_KIND_HH           147988\n",
       "KBA05_ANTG4              133324\n",
       "KBA05_GBZ                133324\n",
       "MOBI_REGIO               133324\n",
       "KBA05_ANTG1              133324\n",
       "KBA05_ANTG2              133324\n",
       "KBA05_ANTG3              133324\n",
       "PLZ8_GBZ                 116515\n",
       "PLZ8_HHZ                 116515\n",
       "PLZ8_BAUMAX              116515\n",
       "PLZ8_ANTG4               116515\n",
       "PLZ8_ANTG1               116515\n",
       "PLZ8_ANTG3               116515\n",
       "PLZ8_ANTG2               116515\n",
       "SHOPPER_TYP              111196\n",
       "VERS_TYP                 111196\n",
       "HEALTH_TYP               111196\n",
       "NATIONALITAET_KZ         108315\n",
       "PRAEGENDE_JUGENDJAHRE    108164\n",
       "KBA13_ANZAHL_PKW         105800\n",
       "ANZ_HAUSHALTE_AKTIV       99611\n",
       "CAMEO_INTL_2015           98979\n",
       "CAMEO_DEU_2015            98979\n",
       "CAMEO_DEUG_2015           98979\n",
       "LP_LEBENSPHASE_FEIN       97632\n",
       "RELAT_AB                  97375\n",
       "ARBEIT                    97375\n",
       "ORTSGR_KLS9               97274\n",
       "ANZ_HH_TITEL              97008\n",
       "LP_LEBENSPHASE_GROB       94572\n",
       "INNENSTADT                93740\n",
       "BALLRAUM                  93740\n",
       "EWDICHTE                  93740\n",
       "GEBAEUDETYP_RASTER        93155\n",
       "MIN_GEBAEUDEJAHR          93148\n",
       "OST_WEST_KZ               93148\n",
       "WOHNLAGE                  93148\n",
       "GEBAEUDETYP               93148\n",
       "LP_FAMILIE_FEIN           77792\n",
       "LP_FAMILIE_GROB           77792\n",
       "KONSUMNAEHE               73969\n",
       "WOHNDAUER_2008            73499\n",
       "ANZ_TITEL                 73499\n",
       "SOHO_KZ                   73499\n",
       "ANZ_PERSONEN              73499\n",
       "HH_EINKOMMEN_SCORE        18348\n",
       "LP_STATUS_GROB             4854\n",
       "LP_STATUS_FEIN             4854\n",
       "RETOURTYP_BK_S             4854\n",
       "ONLINE_AFFINITAET          4854\n",
       "GFK_URLAUBERTYP            4854\n",
       "CJT_GESAMTTYP              4854\n",
       "ALTERSKATEGORIE_GROB       2881\n",
       "dtype: int64"
      ]
     },
     "execution_count": 10,
     "metadata": {},
     "output_type": "execute_result"
    }
   ],
   "source": [
    "# Perform an assessment of how much missing data there is in each column of the\n",
    "# dataset.\n",
    "\n",
    "# missing values in each column\n",
    "azdias_missing = azdias.isna().sum()\n",
    "azdias_missing = azdias_missing[azdias_missing > 0].sort_values(ascending=False)\n",
    "azdias_missing"
   ]
  },
  {
   "cell_type": "code",
   "execution_count": 11,
   "metadata": {},
   "outputs": [
    {
     "data": {
      "text/plain": [
       "TITEL_KZ                 99.757636\n",
       "AGER_TYP                 76.955435\n",
       "KK_KUNDENTYP             65.596749\n",
       "KBA05_BAUMAX             53.468668\n",
       "GEBURTSJAHR              44.020282\n",
       "ALTER_HH                 34.813699\n",
       "REGIOTYP                 17.735668\n",
       "KKK                      17.735668\n",
       "W_KEIT_KIND_HH           16.605084\n",
       "MOBI_REGIO               14.959701\n",
       "KBA05_ANTG2              14.959701\n",
       "KBA05_ANTG1              14.959701\n",
       "KBA05_ANTG3              14.959701\n",
       "KBA05_GBZ                14.959701\n",
       "KBA05_ANTG4              14.959701\n",
       "PLZ8_ANTG4               13.073637\n",
       "PLZ8_ANTG2               13.073637\n",
       "PLZ8_ANTG1               13.073637\n",
       "PLZ8_ANTG3               13.073637\n",
       "PLZ8_BAUMAX              13.073637\n",
       "PLZ8_HHZ                 13.073637\n",
       "PLZ8_GBZ                 13.073637\n",
       "SHOPPER_TYP              12.476816\n",
       "VERS_TYP                 12.476816\n",
       "HEALTH_TYP               12.476816\n",
       "NATIONALITAET_KZ         12.153551\n",
       "PRAEGENDE_JUGENDJAHRE    12.136608\n",
       "KBA13_ANZAHL_PKW         11.871354\n",
       "ANZ_HAUSHALTE_AKTIV      11.176913\n",
       "CAMEO_INTL_2015          11.106000\n",
       "CAMEO_DEU_2015           11.106000\n",
       "CAMEO_DEUG_2015          11.106000\n",
       "LP_LEBENSPHASE_FEIN      10.954859\n",
       "RELAT_AB                 10.926022\n",
       "ARBEIT                   10.926022\n",
       "ORTSGR_KLS9              10.914689\n",
       "ANZ_HH_TITEL             10.884842\n",
       "LP_LEBENSPHASE_GROB      10.611509\n",
       "INNENSTADT               10.518154\n",
       "BALLRAUM                 10.518154\n",
       "EWDICHTE                 10.518154\n",
       "GEBAEUDETYP_RASTER       10.452514\n",
       "GEBAEUDETYP              10.451729\n",
       "WOHNLAGE                 10.451729\n",
       "OST_WEST_KZ              10.451729\n",
       "MIN_GEBAEUDEJAHR         10.451729\n",
       "LP_FAMILIE_FEIN           8.728699\n",
       "LP_FAMILIE_GROB           8.728699\n",
       "KONSUMNAEHE               8.299737\n",
       "WOHNDAUER_2008            8.247000\n",
       "ANZ_TITEL                 8.247000\n",
       "SOHO_KZ                   8.247000\n",
       "ANZ_PERSONEN              8.247000\n",
       "HH_EINKOMMEN_SCORE        2.058749\n",
       "RETOURTYP_BK_S            0.544646\n",
       "GFK_URLAUBERTYP           0.544646\n",
       "ONLINE_AFFINITAET         0.544646\n",
       "CJT_GESAMTTYP             0.544646\n",
       "LP_STATUS_FEIN            0.544646\n",
       "LP_STATUS_GROB            0.544646\n",
       "ALTERSKATEGORIE_GROB      0.323264\n",
       "dtype: float64"
      ]
     },
     "execution_count": 11,
     "metadata": {},
     "output_type": "execute_result"
    }
   ],
   "source": [
    "# percentage of missing values\n",
    "missing_data_percent = azdias_missing / azdias.shape[0] * 100\n",
    "missing_data_percent = missing_data_percent.sort_values(ascending=False)\n",
    "missing_data_percent"
   ]
  },
  {
   "cell_type": "code",
   "execution_count": 12,
   "metadata": {},
   "outputs": [
    {
     "data": {
      "image/png": "[encoded data removed]",
      "text/plain": [
       "<matplotlib.figure.Figure at 0x7bdafcf691d0>"
      ]
     },
     "metadata": {
      "needs_background": "light"
     },
     "output_type": "display_data"
    }
   ],
   "source": [
    "# Investigate patterns in the amount of missing data in each column.\n",
    "\n",
    "# plot to view the count of missing data in each column\n",
    "azdias_missing.plot.barh(figsize=(10, 20))\n",
    "plt.title(\"Missing data in each column\")\n",
    "plt.xlabel(\"Number of missing values\")\n",
    "plt.ylabel(\"Column\")\n",
    "plt.show()"
   ]
  },
  {
   "cell_type": "code",
   "execution_count": 13,
   "metadata": {},
   "outputs": [
    {
     "data": {
      "image/png": "[encoded data removed]",
      "text/plain": [
       "<matplotlib.figure.Figure at 0x7bdafce52b38>"
      ]
     },
     "metadata": {
      "needs_background": "light"
     },
     "output_type": "display_data"
    }
   ],
   "source": [
    "# plot for distribution of missing data \n",
    "\n",
    "plt.hist(missing_data_percent, bins=20)\n",
    "plt.title(\"Histogram of missing data in each column\")\n",
    "plt.xlabel(\"Percentage of missing values\")\n",
    "plt.ylabel(\"Column\")\n",
    "plt.grid(True)\n",
    "plt.show()"
   ]
  },
  {
   "cell_type": "code",
   "execution_count": 14,
   "metadata": {},
   "outputs": [
    {
     "data": {
      "text/plain": [
       "Index(['TITEL_KZ', 'AGER_TYP', 'KK_KUNDENTYP', 'KBA05_BAUMAX', 'GEBURTSJAHR',\n",
       "       'ALTER_HH'],\n",
       "      dtype='object')"
      ]
     },
     "execution_count": 14,
     "metadata": {},
     "output_type": "execute_result"
    }
   ],
   "source": [
    "# Remove the outlier columns from the dataset. (You'll perform other data\n",
    "# engineering tasks such as re-encoding and imputation later.)\n",
    "\n",
    "# we will drop the columns that have more than 30 percent of data missing\n",
    "outlier_columns = missing_data_percent[missing_data_percent> 30].index\n",
    "outlier_columns\n"
   ]
  },
  {
   "cell_type": "code",
   "execution_count": 15,
   "metadata": {},
   "outputs": [
    {
     "data": {
      "text/plain": [
       "(891221, 79)"
      ]
     },
     "execution_count": 15,
     "metadata": {},
     "output_type": "execute_result"
    }
   ],
   "source": [
    "# Drop the outlier columns (columns with more than 30% missing data)\n",
    "azdias.drop(columns=outlier_columns, inplace=True)\n",
    "\n",
    "# Check the cleaned dataframe\n",
    "azdias.shape"
   ]
  },
  {
   "cell_type": "markdown",
   "metadata": {},
   "source": [
    "#### Discussion 1.1.2: Assess Missing Data in Each Column\n",
    "\n",
    "The following columns were removed as it has more than 30 percent of missing data.\n",
    "\n",
    "- TITEL_KZ\n",
    "- AGER_TYP\n",
    "- KK_KUNDENTYP\n",
    "- KBA05_BAUMAX\n",
    "- GEBURTSJAHR\n",
    "- ALTER_HH\n",
    "\n",
    "\n",
    "There could be a pattern where demographic attributes like title and age type data are the most affected by missing values."
   ]
  },
  {
   "cell_type": "markdown",
   "metadata": {},
   "source": [
    "#### Step 1.1.3: Assess Missing Data in Each Row\n",
    "\n",
    "Now, you'll perform a similar assessment for the rows of the dataset. How much data is missing in each row? As with the columns, you should see some groups of points that have a very different numbers of missing values. Divide the data into two subsets: one for data points that are above some threshold for missing values, and a second subset for points below that threshold.\n",
    "\n",
    "In order to know what to do with the outlier rows, we should see if the distribution of data values on columns that are not missing data (or are missing very little data) are similar or different between the two groups. Select at least five of these columns and compare the distribution of values.\n",
    "- You can use seaborn's [`countplot()`](https://seaborn.pydata.org/generated/seaborn.countplot.html) function to create a bar chart of code frequencies and matplotlib's [`subplot()`](https://matplotlib.org/api/_as_gen/matplotlib.pyplot.subplot.html) function to put bar charts for the two subplots side by side.\n",
    "- To reduce repeated code, you might want to write a function that can perform this comparison, taking as one of its arguments a column to be compared.\n",
    "\n",
    "Depending on what you observe in your comparison, this will have implications on how you approach your conclusions later in the analysis. If the distributions of non-missing features look similar between the data with many missing values and the data with few or no missing values, then we could argue that simply dropping those points from the analysis won't present a major issue. On the other hand, if the data with many missing values looks very different from the data with few or no missing values, then we should make a note on those data as special. We'll revisit these data later on. **Either way, you should continue your analysis for now using just the subset of the data with few or no missing values.**"
   ]
  },
  {
   "cell_type": "code",
   "execution_count": 16,
   "metadata": {
    "scrolled": true
   },
   "outputs": [
    {
     "data": {
      "text/plain": [
       "count    891221.000000\n",
       "mean          5.648638\n",
       "std          13.234726\n",
       "min           0.000000\n",
       "25%           0.000000\n",
       "50%           0.000000\n",
       "75%           3.000000\n",
       "max          49.000000\n",
       "dtype: float64"
      ]
     },
     "execution_count": 16,
     "metadata": {},
     "output_type": "execute_result"
    }
   ],
   "source": [
    "# How much data is missing in each row of the dataset?\n",
    "\n",
    "missing_data_rows = azdias.isna().sum(axis=1)\n",
    "\n",
    "# Summary statistics of missing row data\n",
    "missing_data_rows.describe()"
   ]
  },
  {
   "cell_type": "markdown",
   "metadata": {},
   "source": [
    "75% of the rows are missing 3 or fewer missing coulmns. We will set out threshold at 10%, as anything more than can be considered outliers."
   ]
  },
  {
   "cell_type": "code",
   "execution_count": 17,
   "metadata": {},
   "outputs": [
    {
     "data": {
      "image/png": "[encoded data removed]",
      "text/plain": [
       "<matplotlib.figure.Figure at 0x7bdaf5577cc0>"
      ]
     },
     "metadata": {
      "needs_background": "light"
     },
     "output_type": "display_data"
    }
   ],
   "source": [
    "# Distribution of missing values in rows\n",
    "\n",
    "missing_data_rows.plot.hist(bins=20)\n",
    "plt.title(\"Histogram of missing values in rows\")\n",
    "plt.xlabel(\"Number of missing values\")\n",
    "plt.ylabel(\"Number of rows\")\n",
    "plt.show()"
   ]
  },
  {
   "cell_type": "code",
   "execution_count": 49,
   "metadata": {},
   "outputs": [],
   "source": [
    "# Write code to divide the data into two subsets based on the number of missing\n",
    "# values in each row.\n",
    "\n",
    "threshold = 10\n",
    "data_above_threshold = azdias[missing_data_rows > threshold]\n",
    "data_below_threshold = azdias[missing_data_rows <= threshold]"
   ]
  },
  {
   "cell_type": "code",
   "execution_count": 50,
   "metadata": {},
   "outputs": [],
   "source": [
    "# Compare the distribution of values for at least five columns where there are\n",
    "# no or few missing values, between the two subsets.\n",
    "\n",
    "# Create a function to compare distribution of missing values\n",
    "def compare_distribution(column):\n",
    "    \n",
    "    fig, (ax1, ax2) = plt.subplots(1, 2, figsize=(10,6))\n",
    "    # plot for subset above threshold\n",
    "    ax1.set_title(f\"More than {threshold} missing values\")\n",
    "    sns.countplot(data=data_above_threshold, x=column, ax=ax1)\n",
    "    ax1.set_xlabel(column)\n",
    "    ax1.set_ylabel(\"Count\")\n",
    "    \n",
    "    # plot for subset below threshold\n",
    "    ax2.set_title(f\"Less than or equal to {threshold} missing values\")\n",
    "    sns.countplot(data=data_below_threshold, x=column, ax=ax2)\n",
    "    ax2.set_xlabel(column)\n",
    "    ax2.set_ylabel(\"Count\")\n",
    "    \n",
    "    plt.show()"
   ]
  },
  {
   "cell_type": "code",
   "execution_count": 51,
   "metadata": {},
   "outputs": [
    {
     "data": {
      "text/plain": [
       "Index(['ANREDE_KZ', 'FINANZ_MINIMALIST', 'FINANZ_SPARER', 'FINANZ_VORSORGER',\n",
       "       'FINANZ_ANLEGER'],\n",
       "      dtype='object')"
      ]
     },
     "execution_count": 51,
     "metadata": {},
     "output_type": "execute_result"
    }
   ],
   "source": [
    "# first 5 columns with no missing values\n",
    "\n",
    "no_missing_columns = azdias.columns[azdias.isna().sum() == 0][:5]\n",
    "no_missing_columns"
   ]
  },
  {
   "cell_type": "code",
   "execution_count": 52,
   "metadata": {},
   "outputs": [
    {
     "data": {
      "image/png": "[encoded data removed]",
      "text/plain": [
       "<matplotlib.figure.Figure at 0x7bdaf4b7acc0>"
      ]
     },
     "metadata": {
      "needs_background": "light"
     },
     "output_type": "display_data"
    },
    {
     "data": {
      "image/png": "[encoded data removed]",
      "text/plain": [
       "<matplotlib.figure.Figure at 0x7bdaf4ac02e8>"
      ]
     },
     "metadata": {
      "needs_background": "light"
     },
     "output_type": "display_data"
    },
    {
     "data": {
      "image/png": "[encoded data removed]",
      "text/plain": [
       "<matplotlib.figure.Figure at 0x7bdaf4998828>"
      ]
     },
     "metadata": {
      "needs_background": "light"
     },
     "output_type": "display_data"
    },
    {
     "data": {
      "image/png": "[encoded data removed]",
      "text/plain": [
       "<matplotlib.figure.Figure at 0x7bdaf4963a20>"
      ]
     },
     "metadata": {
      "needs_background": "light"
     },
     "output_type": "display_data"
    },
    {
     "data": {
      "image/png": "[encoded data removed]",
      "text/plain": [
       "<matplotlib.figure.Figure at 0x7bdaf4934518>"
      ]
     },
     "metadata": {
      "needs_background": "light"
     },
     "output_type": "display_data"
    }
   ],
   "source": [
    "# Compare the missing data distribution for the 5 columns\n",
    "\n",
    "for column in no_missing_columns:\n",
    "    compare_distribution(column)"
   ]
  },
  {
   "cell_type": "markdown",
   "metadata": {},
   "source": [
    "#### Discussion 1.1.3: Assess Missing Data in Each Row\n",
    "\n",
    "*The plot for rows missing more than 10 values is on the left. And the plot for rows missing 10 or less values is on the right. On comparison, we can see that other than the ANREDE_KZ column, the subset of data with 10 or more missing values is smaller. And, the subset of data with 10 or less than missing values makes the significant portion of the dataset.*"
   ]
  },
  {
   "cell_type": "markdown",
   "metadata": {},
   "source": [
    "### Step 1.2: Select and Re-Encode Features\n",
    "\n",
    "Checking for missing data isn't the only way in which you can prepare a dataset for analysis. Since the unsupervised learning techniques to be used will only work on data that is encoded numerically, you need to make a few encoding changes or additional assumptions to be able to make progress. In addition, while almost all of the values in the dataset are encoded using numbers, not all of them represent numeric values. Check the third column of the feature summary (`feat_info`) for a summary of types of measurement.\n",
    "- For numeric and interval data, these features can be kept without changes.\n",
    "- Most of the variables in the dataset are ordinal in nature. While ordinal values may technically be non-linear in spacing, make the simplifying assumption that the ordinal variables can be treated as being interval in nature (that is, kept without any changes).\n",
    "- Special handling may be necessary for the remaining two variable types: categorical, and 'mixed'.\n",
    "\n",
    "In the first two parts of this sub-step, you will perform an investigation of the categorical and mixed-type features and make a decision on each of them, whether you will keep, drop, or re-encode each. Then, in the last part, you will create a new data frame with only the selected and engineered columns.\n",
    "\n",
    "Data wrangling is often the trickiest part of the data analysis process, and there's a lot of it to be done here. But stick with it: once you're done with this step, you'll be ready to get to the machine learning parts of the project!"
   ]
  },
  {
   "cell_type": "code",
   "execution_count": 53,
   "metadata": {},
   "outputs": [
    {
     "data": {
      "text/plain": [
       "ordinal        49\n",
       "categorical    21\n",
       "mixed           7\n",
       "numeric         7\n",
       "interval        1\n",
       "Name: type, dtype: int64"
      ]
     },
     "execution_count": 53,
     "metadata": {},
     "output_type": "execute_result"
    }
   ],
   "source": [
    "# How many features are there of each data type?\n",
    "\n",
    "features = feat_info[\"type\"].value_counts()\n",
    "features"
   ]
  },
  {
   "cell_type": "markdown",
   "metadata": {},
   "source": [
    "#### Step 1.2.1: Re-Encode Categorical Features\n",
    "\n",
    "For categorical data, you would ordinarily need to encode the levels as dummy variables. Depending on the number of categories, perform one of the following:\n",
    "- For binary (two-level) categoricals that take numeric values, you can keep them without needing to do anything.\n",
    "- There is one binary variable that takes on non-numeric values. For this one, you need to re-encode the values as numbers or create a dummy variable.\n",
    "- For multi-level categoricals (three or more values), you can choose to encode the values using multiple dummy variables (e.g. via [OneHotEncoder](http://scikit-learn.org/stable/modules/generated/sklearn.preprocessing.OneHotEncoder.html)), or (to keep things straightforward) just drop them from the analysis. As always, document your choices in the Discussion section."
   ]
  },
  {
   "cell_type": "code",
   "execution_count": 54,
   "metadata": {},
   "outputs": [],
   "source": [
    "# Assess categorical variables: which are binary, which are multi-level, and\n",
    "# which one needs to be re-encoded?\n",
    "\n",
    "# get categorical columns from feat_info\n",
    "categorical_cols = feat_info[feat_info[\"type\"] == \"categorical\"][\"attribute\"]\n",
    "\n",
    "binary = []          \n",
    "multi_level = []     \n",
    "binary_non_num = [] \n",
    "\n",
    "# Iterating through each categorical column\n",
    "for col in categorical_cols:\n",
    "    # check if column is in the data_below_threshold DataFrame\n",
    "    if col in data_below_threshold.columns:\n",
    "        unique_count = data_below_threshold[col].nunique()\n",
    "        \n",
    "        # check for binary features\n",
    "        if unique_count == 2:\n",
    "            binary.append(col)\n",
    "            # check for binary non-numeric types\n",
    "            if data_below_threshold[col].dtype == \"object\":\n",
    "                binary_non_num.append(col)\n",
    "        # Check for multi-level categorical features\n",
    "        elif unique_count > 2:\n",
    "            multi_level.append(col)"
   ]
  },
  {
   "cell_type": "code",
   "execution_count": 55,
   "metadata": {},
   "outputs": [
    {
     "name": "stdout",
     "output_type": "stream",
     "text": [
      "Binary features: ['ANREDE_KZ', 'GREEN_AVANTGARDE', 'SOHO_KZ', 'VERS_TYP', 'OST_WEST_KZ']\n",
      "\n",
      "Binary non-numeric: ['OST_WEST_KZ']\n",
      "\n",
      "Multi-level categorical features: ['CJT_GESAMTTYP', 'FINANZTYP', 'GFK_URLAUBERTYP', 'LP_FAMILIE_FEIN', 'LP_FAMILIE_GROB', 'LP_STATUS_FEIN', 'LP_STATUS_GROB', 'NATIONALITAET_KZ', 'SHOPPER_TYP', 'ZABEOTYP', 'GEBAEUDETYP', 'CAMEO_DEUG_2015', 'CAMEO_DEU_2015']\n"
     ]
    }
   ],
   "source": [
    "# binary, multi-level\n",
    "print(f\"Binary features: {binary}\\n\")\n",
    "print(f\"Binary non-numeric: {binary_non_num}\\n\")\n",
    "print(f\"Multi-level categorical features: {multi_level}\")"
   ]
  },
  {
   "cell_type": "code",
   "execution_count": 56,
   "metadata": {},
   "outputs": [],
   "source": [
    "# Re-encode categorical variable(s) to be kept in the analysis.\n",
    "\n",
    "# dropping multi-level categorical variables\n",
    "data_below_threshold = data_below_threshold.drop(columns=multi_level)\n",
    "\n",
    "# re-encoding the non numeric binary varible to numeric\n",
    "data_below_threshold['OST_WEST_KZ'] = data_below_threshold['OST_WEST_KZ'].map({\"W\": 0, \"O\": 1})\n"
   ]
  },
  {
   "cell_type": "code",
   "execution_count": 57,
   "metadata": {},
   "outputs": [
    {
     "data": {
      "text/plain": [
       "array([0, 1])"
      ]
     },
     "execution_count": 57,
     "metadata": {},
     "output_type": "execute_result"
    }
   ],
   "source": [
    "# check encoding of 'OST_WEST_KZ'\n",
    "data_below_threshold['OST_WEST_KZ'].unique()"
   ]
  },
  {
   "cell_type": "code",
   "execution_count": 58,
   "metadata": {},
   "outputs": [
    {
     "data": {
      "text/plain": [
       "dtype('int64')"
      ]
     },
     "execution_count": 58,
     "metadata": {},
     "output_type": "execute_result"
    }
   ],
   "source": [
    "data_below_threshold['OST_WEST_KZ'].dtype"
   ]
  },
  {
   "cell_type": "code",
   "execution_count": 59,
   "metadata": {},
   "outputs": [
    {
     "data": {
      "text/plain": [
       "(780182, 66)"
      ]
     },
     "execution_count": 59,
     "metadata": {},
     "output_type": "execute_result"
    }
   ],
   "source": [
    "# check the dataset\n",
    "data_below_threshold.shape"
   ]
  },
  {
   "cell_type": "markdown",
   "metadata": {},
   "source": [
    "#### Discussion 1.2.1: Re-Encode Categorical Features\n",
    "\n",
    "- For the categorical features, we kept the five binary features, ANREDE_KZ, GREEN_AVANTGARDE, SOHO_KZ, VERS_TYP, \n",
    "- The one non-numeric OST_WEST_KZ was re-encoded to numeric. \n",
    "- We also decided to drop the 12 multi-level categorical features for our analysis."
   ]
  },
  {
   "cell_type": "markdown",
   "metadata": {},
   "source": [
    "#### Step 1.2.2: Engineer Mixed-Type Features\n",
    "\n",
    "There are a handful of features that are marked as \"mixed\" in the feature summary that require special treatment in order to be included in the analysis. There are two in particular that deserve attention; the handling of the rest are up to your own choices:\n",
    "- \"PRAEGENDE_JUGENDJAHRE\" combines information on three dimensions: generation by decade, movement (mainstream vs. avantgarde), and nation (east vs. west). While there aren't enough levels to disentangle east from west, you should create two new variables to capture the other two dimensions: an interval-type variable for decade, and a binary variable for movement.\n",
    "- \"CAMEO_INTL_2015\" combines information on two axes: wealth and life stage. Break up the two-digit codes by their 'tens'-place and 'ones'-place digits into two new ordinal variables (which, for the purposes of this project, is equivalent to just treating them as their raw numeric values).\n",
    "- If you decide to keep or engineer new features around the other mixed-type features, make sure you note your steps in the Discussion section.\n",
    "\n",
    "Be sure to check `Data_Dictionary.md` for the details needed to finish these tasks."
   ]
  },
  {
   "cell_type": "markdown",
   "metadata": {},
   "source": [
    "1.18. PRAEGENDE_JUGENDJAHRE: \n",
    "Dominating movement of person's youth (avantgarde vs. mainstream; east vs. west)\n",
    "\n",
    "-  1: unknown\n",
    "-  0: unknown\n",
    "-  1: 40s - war years (Mainstream, E+W)\n",
    "-  2: 40s - reconstruction years (Avantgarde, E+W)\n",
    "-  3: 50s - economic miracle (Mainstream, E+W)\n",
    "-  4: 50s - milk bar / Individualisation (Avantgarde, E+W)\n",
    "-  5: 60s - economic miracle (Mainstream, E+W)\n",
    "-  6: 60s - generation 68 / student protestors (Avantgarde, W)\n",
    "-  7: 60s - opponents to the building of the Wall (Avantgarde, E)\n",
    "-  8: 70s - family orientation (Mainstream, E+W)\n",
    "-  9: 70s - peace movement (Avantgarde, E+W)\n",
    "- 10: 80s - Generation Golf (Mainstream, W)\n",
    "- 11: 80s - ecological awareness (Avantgarde, W)\n",
    "- 12: 80s - FDJ / communist party youth organisation (Mainstream, E)\n",
    "- 13: 80s - Swords into ploughshares (Avantgarde, E)\n",
    "- 14: 90s - digital media kids (Mainstream, E+W)\n",
    "- 15: 90s - ecological awareness (Avantgarde, E+W)\n",
    "\n",
    "- Mainstream (0): 1, 3, 5, 8, 10, 12, 14. \n",
    "- Avantgarde (1): 2, 4, 6, 7, 9, 11, 13, 15"
   ]
  },
  {
   "cell_type": "code",
   "execution_count": 60,
   "metadata": {},
   "outputs": [
    {
     "data": {
      "text/html": [
       "<div>\n",
       "<style scoped>\n",
       "    .dataframe tbody tr th:only-of-type {\n",
       "        vertical-align: middle;\n",
       "    }\n",
       "\n",
       "    .dataframe tbody tr th {\n",
       "        vertical-align: top;\n",
       "    }\n",
       "\n",
       "    .dataframe thead th {\n",
       "        text-align: right;\n",
       "    }\n",
       "</style>\n",
       "<table border=\"1\" class=\"dataframe\">\n",
       "  <thead>\n",
       "    <tr style=\"text-align: right;\">\n",
       "      <th></th>\n",
       "      <th>MOVEMENT</th>\n",
       "      <th>DECADE</th>\n",
       "    </tr>\n",
       "  </thead>\n",
       "  <tbody>\n",
       "    <tr>\n",
       "      <th>1</th>\n",
       "      <td>0.0</td>\n",
       "      <td>6.0</td>\n",
       "    </tr>\n",
       "    <tr>\n",
       "      <th>2</th>\n",
       "      <td>1.0</td>\n",
       "      <td>6.0</td>\n",
       "    </tr>\n",
       "    <tr>\n",
       "      <th>3</th>\n",
       "      <td>0.0</td>\n",
       "      <td>4.0</td>\n",
       "    </tr>\n",
       "    <tr>\n",
       "      <th>4</th>\n",
       "      <td>0.0</td>\n",
       "      <td>4.0</td>\n",
       "    </tr>\n",
       "    <tr>\n",
       "      <th>5</th>\n",
       "      <td>0.0</td>\n",
       "      <td>2.0</td>\n",
       "    </tr>\n",
       "  </tbody>\n",
       "</table>\n",
       "</div>"
      ],
      "text/plain": [
       "   MOVEMENT  DECADE\n",
       "1       0.0     6.0\n",
       "2       1.0     6.0\n",
       "3       0.0     4.0\n",
       "4       0.0     4.0\n",
       "5       0.0     2.0"
      ]
     },
     "execution_count": 60,
     "metadata": {},
     "output_type": "execute_result"
    }
   ],
   "source": [
    "# Investigate \"PRAEGENDE_JUGENDJAHRE\" and engineer two new variables.\n",
    "\n",
    "# movement (binary type)\n",
    "movement = {1:0, 2:1, 3:0, 4: 1, 5:0, 6:1, 7:1, 8:0, 9:1, 10:0, 11:1, 12:0, 13:1, 14:0, 15:1}\n",
    "data_below_threshold[\"MOVEMENT\"] = data_below_threshold[\"PRAEGENDE_JUGENDJAHRE\"].replace(movement)\n",
    "\n",
    "# decade (interval type)\n",
    "decade = {1:1, 2:1, 3:2, 4:2, 5:3, 6:3, 7:3, 8:4, 9:4, 10:5, 11:5, 12:5, 13:5, 14:6, 15:6}\n",
    "data_below_threshold[\"DECADE\"] = data_below_threshold[\"PRAEGENDE_JUGENDJAHRE\"].replace(decade)\n",
    "\n",
    "data_below_threshold[[\"MOVEMENT\", \"DECADE\"]].head()"
   ]
  },
  {
   "cell_type": "markdown",
   "metadata": {},
   "source": [
    "4.3. CAMEO_INTL_2015 : \n",
    "German CAMEO: Wealth / Life Stage Typology, mapped to international code\n",
    "\n",
    "- 1: unknown\n",
    "- 11: Wealthy Households - Pre-Family Couples & Singles\n",
    "- 12: Wealthy Households - Young Couples With Children\n",
    "- 13: Wealthy Households - Families With School Age Children\n",
    "- 14: Wealthy Households - Older Families &  Mature Couples\n",
    "- 15: Wealthy Households - Elders In Retirement\n",
    "- 21: Prosperous Households - Pre-Family Couples & Singles\n",
    "- 22: Prosperous Households - Young Couples With Children\n",
    "- 23: Prosperous Households - Families With School Age Children\n",
    "- 24: Prosperous Households - Older Families & Mature Couples\n",
    "- 25: Prosperous Households - Elders In Retirement\n",
    "- 31: Comfortable Households - Pre-Family Couples & Singles\n",
    "- 32: Comfortable Households - Young Couples With Children\n",
    "- 33: Comfortable Households - Families With School Age Children\n",
    "- 34: Comfortable Households - Older Families & Mature Couples\n",
    "- 35: Comfortable Households - Elders In Retirement\n",
    "- 41: Less Affluent Households - Pre-Family Couples & Singles\n",
    "- 42: Less Affluent Households - Young Couples With Children\n",
    "- 43: Less Affluent Households - Families With School Age Children\n",
    "- 44: Less Affluent Households - Older Families & Mature Couples\n",
    "- 45: Less Affluent Households - Elders In Retirement\n",
    "- 51: Poorer Households - Pre-Family Couples & Singles\n",
    "- 52: Poorer Households - Young Couples With Children\n",
    "- 53: Poorer Households - Families With School Age Children\n",
    "- 54: Poorer Households - Older Families & Mature Couples\n",
    "- 55: Poorer Households - Elders In Retirement\n",
    "- XX: unknown"
   ]
  },
  {
   "cell_type": "code",
   "execution_count": 61,
   "metadata": {},
   "outputs": [
    {
     "data": {
      "text/plain": [
       "dtype('O')"
      ]
     },
     "execution_count": 61,
     "metadata": {},
     "output_type": "execute_result"
    }
   ],
   "source": [
    "# Investigate \"CAMEO_INTL_2015\"\n",
    "data_below_threshold[\"CAMEO_INTL_2015\"].dtype"
   ]
  },
  {
   "cell_type": "code",
   "execution_count": 62,
   "metadata": {},
   "outputs": [
    {
     "data": {
      "text/html": [
       "<div>\n",
       "<style scoped>\n",
       "    .dataframe tbody tr th:only-of-type {\n",
       "        vertical-align: middle;\n",
       "    }\n",
       "\n",
       "    .dataframe tbody tr th {\n",
       "        vertical-align: top;\n",
       "    }\n",
       "\n",
       "    .dataframe thead th {\n",
       "        text-align: right;\n",
       "    }\n",
       "</style>\n",
       "<table border=\"1\" class=\"dataframe\">\n",
       "  <thead>\n",
       "    <tr style=\"text-align: right;\">\n",
       "      <th></th>\n",
       "      <th>WEALTH</th>\n",
       "      <th>LIFE_STAGE</th>\n",
       "    </tr>\n",
       "  </thead>\n",
       "  <tbody>\n",
       "    <tr>\n",
       "      <th>1</th>\n",
       "      <td>5.0</td>\n",
       "      <td>1.0</td>\n",
       "    </tr>\n",
       "    <tr>\n",
       "      <th>2</th>\n",
       "      <td>2.0</td>\n",
       "      <td>4.0</td>\n",
       "    </tr>\n",
       "    <tr>\n",
       "      <th>3</th>\n",
       "      <td>1.0</td>\n",
       "      <td>2.0</td>\n",
       "    </tr>\n",
       "    <tr>\n",
       "      <th>4</th>\n",
       "      <td>4.0</td>\n",
       "      <td>3.0</td>\n",
       "    </tr>\n",
       "    <tr>\n",
       "      <th>5</th>\n",
       "      <td>5.0</td>\n",
       "      <td>4.0</td>\n",
       "    </tr>\n",
       "  </tbody>\n",
       "</table>\n",
       "</div>"
      ],
      "text/plain": [
       "   WEALTH  LIFE_STAGE\n",
       "1     5.0         1.0\n",
       "2     2.0         4.0\n",
       "3     1.0         2.0\n",
       "4     4.0         3.0\n",
       "5     5.0         4.0"
      ]
     },
     "execution_count": 62,
     "metadata": {},
     "output_type": "execute_result"
    }
   ],
   "source": [
    "# Investigate \"CAMEO_INTL_2015\" and engineer two new variables.\n",
    "\n",
    "# converting \"CAMEO_INTL_2015\" to numeric\n",
    "data_below_threshold[\"CAMEO_INTL_2015\"] = pd.to_numeric(data_below_threshold[\"CAMEO_INTL_2015\"], errors=\"coerce\")\n",
    "# creating \"WEALTH\" variable - by tens place\n",
    "data_below_threshold[\"WEALTH\"] = data_below_threshold[\"CAMEO_INTL_2015\"].apply(lambda x: x // 10 if x != -1 else -1)\n",
    "\n",
    "# creating \"LIFE_STAGE\" variable - by ones place\n",
    "data_below_threshold[\"LIFE_STAGE\"] = data_below_threshold[\"CAMEO_INTL_2015\"].apply(lambda x: x % 10 if x != -1 else -1)\n",
    "\n",
    "data_below_threshold[[\"WEALTH\", \"LIFE_STAGE\"]].head()"
   ]
  },
  {
   "cell_type": "markdown",
   "metadata": {},
   "source": [
    "#### Discussion 1.2.2: Engineer Mixed-Type Features\n",
    "\n",
    "- For the mixed-values features of PRAEGENDE_JUGENDJAHRE, we created two new variables MOVEMENT (0- mainstream or 1 - avantgrade) and DECADE as of interval type. \n",
    "\n",
    "\n",
    "- For CAMEO_INTL_2015, two new ordinal variables were created WEALTH - extracted from the tens place and LIFE_STAGE from ones place. Also, we dropped the original PRAEGENDE_JUGENDJAHRE, CAMEO_INTL_2015."
   ]
  },
  {
   "cell_type": "markdown",
   "metadata": {},
   "source": [
    "#### Step 1.2.3: Complete Feature Selection\n",
    "\n",
    "In order to finish this step up, you need to make sure that your data frame now only has the columns that you want to keep. To summarize, the dataframe should consist of the following:\n",
    "- All numeric, interval, and ordinal type columns from the original dataset.\n",
    "- Binary categorical features (all numerically-encoded).\n",
    "- Engineered features from other multi-level categorical features and mixed features.\n",
    "\n",
    "Make sure that for any new columns that you have engineered, that you've excluded the original columns from the final dataset. Otherwise, their values will interfere with the analysis later on the project. For example, you should not keep \"PRAEGENDE_JUGENDJAHRE\", since its values won't be useful for the algorithm: only the values derived from it in the engineered features you created should be retained. As a reminder, your data should only be from **the subset with few or no missing values**."
   ]
  },
  {
   "cell_type": "code",
   "execution_count": 63,
   "metadata": {},
   "outputs": [
    {
     "name": "stdout",
     "output_type": "stream",
     "text": [
      "<class 'pandas.core.frame.DataFrame'>\n",
      "Int64Index: 780182 entries, 1 to 891220\n",
      "Data columns (total 68 columns):\n",
      " #   Column                 Non-Null Count   Dtype  \n",
      "---  ------                 --------------   -----  \n",
      " 0   ALTERSKATEGORIE_GROB   777557 non-null  float64\n",
      " 1   ANREDE_KZ              780182 non-null  int64  \n",
      " 2   FINANZ_MINIMALIST      780182 non-null  int64  \n",
      " 3   FINANZ_SPARER          780182 non-null  int64  \n",
      " 4   FINANZ_VORSORGER       780182 non-null  int64  \n",
      " 5   FINANZ_ANLEGER         780182 non-null  int64  \n",
      " 6   FINANZ_UNAUFFAELLIGER  780182 non-null  int64  \n",
      " 7   FINANZ_HAUSBAUER       780182 non-null  int64  \n",
      " 8   GREEN_AVANTGARDE       780182 non-null  int64  \n",
      " 9   HEALTH_TYP             745654 non-null  float64\n",
      " 10  LP_LEBENSPHASE_FEIN    733602 non-null  float64\n",
      " 11  LP_LEBENSPHASE_GROB    736283 non-null  float64\n",
      " 12  RETOURTYP_BK_S         776346 non-null  float64\n",
      " 13  SEMIO_SOZ              780182 non-null  int64  \n",
      " 14  SEMIO_FAM              780182 non-null  int64  \n",
      " 15  SEMIO_REL              780182 non-null  int64  \n",
      " 16  SEMIO_MAT              780182 non-null  int64  \n",
      " 17  SEMIO_VERT             780182 non-null  int64  \n",
      " 18  SEMIO_LUST             780182 non-null  int64  \n",
      " 19  SEMIO_ERL              780182 non-null  int64  \n",
      " 20  SEMIO_KULT             780182 non-null  int64  \n",
      " 21  SEMIO_RAT              780182 non-null  int64  \n",
      " 22  SEMIO_KRIT             780182 non-null  int64  \n",
      " 23  SEMIO_DOM              780182 non-null  int64  \n",
      " 24  SEMIO_KAEM             780182 non-null  int64  \n",
      " 25  SEMIO_PFLICHT          780182 non-null  int64  \n",
      " 26  SEMIO_TRADV            780182 non-null  int64  \n",
      " 27  SOHO_KZ                780182 non-null  float64\n",
      " 28  VERS_TYP               745654 non-null  float64\n",
      " 29  ANZ_PERSONEN           780182 non-null  float64\n",
      " 30  ANZ_TITEL              780182 non-null  float64\n",
      " 31  HH_EINKOMMEN_SCORE     780182 non-null  float64\n",
      " 32  W_KEIT_KIND_HH         723895 non-null  float64\n",
      " 33  WOHNDAUER_2008         780182 non-null  float64\n",
      " 34  ANZ_HAUSHALTE_AKTIV    774441 non-null  float64\n",
      " 35  ANZ_HH_TITEL           776948 non-null  float64\n",
      " 36  KONSUMNAEHE            780131 non-null  float64\n",
      " 37  MIN_GEBAEUDEJAHR       780182 non-null  float64\n",
      " 38  OST_WEST_KZ            780182 non-null  int64  \n",
      " 39  WOHNLAGE               780182 non-null  float64\n",
      " 40  KBA05_ANTG1            755706 non-null  float64\n",
      " 41  KBA05_ANTG2            755706 non-null  float64\n",
      " 42  KBA05_ANTG3            755706 non-null  float64\n",
      " 43  KBA05_ANTG4            755706 non-null  float64\n",
      " 44  KBA05_GBZ              755706 non-null  float64\n",
      " 45  BALLRAUM               779638 non-null  float64\n",
      " 46  EWDICHTE               779638 non-null  float64\n",
      " 47  INNENSTADT             779638 non-null  float64\n",
      " 48  GEBAEUDETYP_RASTER     780177 non-null  float64\n",
      " 49  KKK                    725385 non-null  float64\n",
      " 50  MOBI_REGIO             755706 non-null  float64\n",
      " 51  ONLINE_AFFINITAET      776346 non-null  float64\n",
      " 52  REGIOTYP               725385 non-null  float64\n",
      " 53  KBA13_ANZAHL_PKW       774518 non-null  float64\n",
      " 54  PLZ8_ANTG1             772063 non-null  float64\n",
      " 55  PLZ8_ANTG2             772063 non-null  float64\n",
      " 56  PLZ8_ANTG3             772063 non-null  float64\n",
      " 57  PLZ8_ANTG4             772063 non-null  float64\n",
      " 58  PLZ8_BAUMAX            772063 non-null  float64\n",
      " 59  PLZ8_HHZ               772063 non-null  float64\n",
      " 60  PLZ8_GBZ               772063 non-null  float64\n",
      " 61  ARBEIT                 776183 non-null  float64\n",
      " 62  ORTSGR_KLS9            776275 non-null  float64\n",
      " 63  RELAT_AB               776183 non-null  float64\n",
      " 64  MOVEMENT               753704 non-null  float64\n",
      " 65  DECADE                 753704 non-null  float64\n",
      " 66  WEALTH                 776497 non-null  float64\n",
      " 67  LIFE_STAGE             776497 non-null  float64\n",
      "dtypes: float64(45), int64(23)\n",
      "memory usage: 430.7 MB\n"
     ]
    }
   ],
   "source": [
    "# If there are other re-engineering tasks you need to perform, make sure you\n",
    "# take care of them here. (Dealing with missing data will come in step 2.1.)\n",
    "\n",
    "# Dropping the PRAEGENDE_JUGENDJAHRE and \"CAMEO_INTL_2015\" columns\n",
    "data_below_threshold = data_below_threshold.drop(columns= [\"PRAEGENDE_JUGENDJAHRE\", \"CAMEO_INTL_2015\"])\n",
    "\n",
    "data_below_threshold.info()"
   ]
  },
  {
   "cell_type": "code",
   "execution_count": 64,
   "metadata": {},
   "outputs": [],
   "source": [
    "# Do whatever you need to in order to ensure that the dataframe only contains\n",
    "# the columns that should be passed to the algorithm functions.\n",
    "\n"
   ]
  },
  {
   "cell_type": "markdown",
   "metadata": {},
   "source": [
    "### Step 1.3: Create a Cleaning Function\n",
    "\n",
    "Even though you've finished cleaning up the general population demographics data, it's important to look ahead to the future and realize that you'll need to perform the same cleaning steps on the customer demographics data. In this substep, complete the function below to execute the main feature selection, encoding, and re-engineering steps you performed above. Then, when it comes to looking at the customer data in Step 3, you can just run this function on that DataFrame to get the trimmed dataset in a single step."
   ]
  },
  {
   "cell_type": "code",
   "execution_count": 65,
   "metadata": {},
   "outputs": [],
   "source": [
    "def clean_data(df):\n",
    "    \"\"\"\n",
    "    Perform feature trimming, re-encoding, and engineering for demographics\n",
    "    data\n",
    "    \n",
    "    INPUT: Demographics DataFrame\n",
    "    OUTPUT: Trimmed and cleaned demographics DataFrame\n",
    "    \"\"\"\n",
    "    # creating a copy of the dataframe\n",
    "    df = df.copy()\n",
    "    \n",
    "    # Put in code here to execute all main cleaning steps:\n",
    "    # convert missing value codes into NaNs, ...\n",
    "    for attribute, missing_index in zip(feat_info[\"attribute\"], feat_info[\"missing_or_unknown\"]):\n",
    "        missing_values = missing_index.strip(\"[]\").split(\",\")\n",
    "        missing_values = [int(value) for value in missing_values if value.strip() not in [\"X\", \"XX\", \"\"]]\n",
    "        # replacing missing values with Nan\n",
    "        df.loc[:,attribute] = df[attribute].replace(missing_values, np.nan)\n",
    "    \n",
    "    # remove selected columns and rows, ...\n",
    "    \n",
    "    # removing columns with more than 30 % of missing data\n",
    "    missing_data_percent = df.isna().sum()/df.shape[0] * 100\n",
    "    outlier_columns = missing_data_percent[missing_data_percent > 30].index\n",
    "    df.drop(columns=outlier_columns, inplace=True)\n",
    "    \n",
    "    # removing rows with excessive missing data\n",
    "    missing_data_rows = df.isna().sum(axis=1)\n",
    "    df = df[missing_data_rows <=10]\n",
    "    \n",
    "    # select, re-encode, and engineer column values.\n",
    "    \n",
    "    # re-encode binary variables\n",
    "    df.loc[:, 'OST_WEST_KZ'] = df['OST_WEST_KZ'].map({\"W\": 0, \"O\": 1})\n",
    "    \n",
    "    # dropping multi-level categorical variables\n",
    "    categorical_cols = feat_info[feat_info[\"type\"] == \"categorical\"][\"attribute\"].tolist()\n",
    "    multi_level = [col for col in categorical_cols if col in df.columns and df[col].nunique() > 2]\n",
    "    df = df.drop(columns=multi_level, errors=\"ignore\")\n",
    "    \n",
    "    # Engineering Mixed-Type Features - PRAEGENDE_JUGENDJAHRE, CAMEO_INTL_2015\n",
    "\n",
    "    # create two variables an interval-type variable for decade, and a binary variable for movement.\n",
    "    movement = {1:0, 2:1, 3:0, 4: 1, 5:0, 6:1, 7:1, 8:0, 9:1, 10:0, 11:1, 12:0, 13:1, 14:0, 15:1}\n",
    "    df.loc[:,\"MOVEMENT\"] = df[\"PRAEGENDE_JUGENDJAHRE\"].replace(movement)\n",
    "    \n",
    "    # decade (interval type)\n",
    "    decade = {1:1, 2:1, 3:2, 4:2, 5:3, 6:3, 7:3, 8:4, 9:4, 10:5, 11:5, 12:5, 13:5, 14:6, 15:6}\n",
    "    df.loc[:,\"DECADE\"] = df[\"PRAEGENDE_JUGENDJAHRE\"].replace(decade)\n",
    "\n",
    "    # create two variables 'tens'-place and 'ones'-place digits into two new ordinal variables\n",
    "    df[\"CAMEO_INTL_2015\"] = pd.to_numeric(df[\"CAMEO_INTL_2015\"], errors=\"coerce\")\n",
    "    df.loc[:, \"WEALTH\"] = df[\"CAMEO_INTL_2015\"].apply(lambda x: x // 10 if x != -1 else -1)\n",
    "    df.loc[:, \"LIFE_STAGE\"] = df[\"CAMEO_INTL_2015\"].apply(lambda x: x % 10 if x != -1 else -1)\n",
    "    \n",
    "    # drop original \"PRAEGENDE_JUGENDJAHRE\", \"CAMEO_INTL_2015\" columns\n",
    "    df.drop(columns=[\"PRAEGENDE_JUGENDJAHRE\", \"CAMEO_INTL_2015\"], inplace=True, errors=\"ignore\")\n",
    "    \n",
    "    # Return the cleaned dataframe.\n",
    "    \n",
    "    return df"
   ]
  },
  {
   "cell_type": "markdown",
   "metadata": {},
   "source": [
    "## Step 2: Feature Transformation\n",
    "\n",
    "### Step 2.1: Apply Feature Scaling\n",
    "\n",
    "Before we apply dimensionality reduction techniques to the data, we need to perform feature scaling so that the principal component vectors are not influenced by the natural differences in scale for features. Starting from this part of the project, you'll want to keep an eye on the [API reference page for sklearn](http://scikit-learn.org/stable/modules/classes.html) to help you navigate to all of the classes and functions that you'll need. In this substep, you'll need to check the following:\n",
    "\n",
    "- sklearn requires that data not have missing values in order for its estimators to work properly. So, before applying the scaler to your data, make sure that you've cleaned the DataFrame of the remaining missing values. This can be as simple as just removing all data points with missing data, or applying an [Imputer](https://scikit-learn.org/0.16/modules/generated/sklearn.preprocessing.Imputer.html) to replace all missing values. You might also try a more complicated procedure where you temporarily remove missing values in order to compute the scaling parameters before re-introducing those missing values and applying imputation. Think about how much missing data you have and what possible effects each approach might have on your analysis, and justify your decision in the discussion section below.\n",
    "- For the actual scaling function, a [StandardScaler](http://scikit-learn.org/stable/modules/generated/sklearn.preprocessing.StandardScaler.html) instance is suggested, scaling each feature to mean 0 and standard deviation 1.\n",
    "- For these classes, you can make use of the `.fit_transform()` method to both fit a procedure to the data as well as apply the transformation to the data at the same time. Don't forget to keep the fit sklearn objects handy, since you'll be applying them to the customer demographics data towards the end of the project."
   ]
  },
  {
   "cell_type": "code",
   "execution_count": 66,
   "metadata": {},
   "outputs": [
    {
     "data": {
      "text/plain": [
       "(780182, 68)"
      ]
     },
     "execution_count": 66,
     "metadata": {},
     "output_type": "execute_result"
    }
   ],
   "source": [
    "data_below_threshold.shape"
   ]
  },
  {
   "cell_type": "code",
   "execution_count": 67,
   "metadata": {},
   "outputs": [
    {
     "name": "stdout",
     "output_type": "stream",
     "text": [
      "Total nan values: 627960\n"
     ]
    }
   ],
   "source": [
    "# If you've not yet cleaned the dataset of all NaN values, then investigate and\n",
    "# do that now.\n",
    "\n",
    "# check the coulmns with missing values\n",
    "\n",
    "print(f\"Total nan values: {data_below_threshold.isna().sum().sum()}\")"
   ]
  },
  {
   "cell_type": "code",
   "execution_count": 68,
   "metadata": {},
   "outputs": [],
   "source": [
    "# Replace NaNs woth median values\n",
    "\n",
    "missing_cols = data_below_threshold.columns[data_below_threshold.isna().any()]\n",
    "imputer = SimpleImputer(strategy=\"median\")\n",
    "data_below_threshold[missing_cols] = imputer.fit_transform(data_below_threshold[missing_cols])"
   ]
  },
  {
   "cell_type": "code",
   "execution_count": 69,
   "metadata": {},
   "outputs": [
    {
     "name": "stdout",
     "output_type": "stream",
     "text": [
      "NaN values after Imputing: 0\n"
     ]
    }
   ],
   "source": [
    "print(f\"NaN values after Imputing: {data_below_threshold.isna().sum().sum()}\")"
   ]
  },
  {
   "cell_type": "code",
   "execution_count": 70,
   "metadata": {},
   "outputs": [],
   "source": [
    "# Apply feature scaling to the general population demographics data.\n",
    "\n",
    "scaler = StandardScaler()\n",
    "df_scaled = pd.DataFrame(scaler.fit_transform(data_below_threshold), columns=data_below_threshold.columns)"
   ]
  },
  {
   "cell_type": "markdown",
   "metadata": {},
   "source": [
    "### Discussion 2.1: Apply Feature Scaling\n",
    "\n",
    "We implemented the clean_data function to clean the dataset. After cleaning the dataset we opted for imputation and replaced the remaining missing values with median values. And, applied feature scaling by using Standard scaler."
   ]
  },
  {
   "cell_type": "markdown",
   "metadata": {},
   "source": [
    "### Step 2.2: Perform Dimensionality Reduction\n",
    "\n",
    "On your scaled data, you are now ready to apply dimensionality reduction techniques.\n",
    "\n",
    "- Use sklearn's [PCA](http://scikit-learn.org/stable/modules/generated/sklearn.decomposition.PCA.html) class to apply principal component analysis on the data, thus finding the vectors of maximal variance in the data. To start, you should not set any parameters (so all components are computed) or set a number of components that is at least half the number of features (so there's enough features to see the general trend in variability).\n",
    "- Check out the ratio of variance explained by each principal component as well as the cumulative variance explained. Try plotting the cumulative or sequential values using matplotlib's [`plot()`](https://matplotlib.org/api/_as_gen/matplotlib.pyplot.plot.html) function. Based on what you find, select a value for the number of transformed features you'll retain for the clustering part of the project.\n",
    "- Once you've made a choice for the number of components to keep, make sure you re-fit a PCA instance to perform the decided-on transformation."
   ]
  },
  {
   "cell_type": "code",
   "execution_count": 71,
   "metadata": {},
   "outputs": [
    {
     "data": {
      "text/plain": [
       "PCA()"
      ]
     },
     "execution_count": 71,
     "metadata": {},
     "output_type": "execute_result"
    }
   ],
   "source": [
    "# Apply PCA to the data.\n",
    "\n",
    "pca = PCA()\n",
    "pca.fit(df_scaled)"
   ]
  },
  {
   "cell_type": "code",
   "execution_count": 72,
   "metadata": {},
   "outputs": [],
   "source": [
    "# Investigate the variance accounted for by each principal component.\n",
    "\n",
    "# explained variance\n",
    "\n",
    "exp_variance = pca.explained_variance_ratio_\n",
    "cum_exp_variance = np.cumsum(exp_variance) \n",
    "num_components = np.arange(len(exp_variance))"
   ]
  },
  {
   "cell_type": "code",
   "execution_count": 73,
   "metadata": {},
   "outputs": [
    {
     "data": {
      "image/png": "[encoded data removed]",
      "text/plain": [
       "<matplotlib.figure.Figure at 0x7bdaf4b56d30>"
      ]
     },
     "metadata": {
      "needs_background": "light"
     },
     "output_type": "display_data"
    }
   ],
   "source": [
    "# plot explained variance\n",
    "\n",
    "plt.figure(figsize=(10,6))\n",
    "plt.bar(num_components, exp_variance)\n",
    "plt.xlabel(\"Principal Component\")\n",
    "plt.ylabel(\"Explained Variance\")\n",
    "plt.title(\"Explained Variance by Principal Component\")\n",
    "plt.show()\n"
   ]
  },
  {
   "cell_type": "code",
   "execution_count": 74,
   "metadata": {},
   "outputs": [
    {
     "data": {
      "text/plain": [
       "Text(0.5,1,'Cumulative explained variance by Principal Component')"
      ]
     },
     "execution_count": 74,
     "metadata": {},
     "output_type": "execute_result"
    },
    {
     "data": {
      "image/png": "[encoded data removed]",
      "text/plain": [
       "<matplotlib.figure.Figure at 0x7bdae114f4e0>"
      ]
     },
     "metadata": {
      "needs_background": "light"
     },
     "output_type": "display_data"
    }
   ],
   "source": [
    "# plot cumulative explained variance\n",
    "\n",
    "plt.figure(figsize=(10,6))\n",
    "plt.plot(num_components, cum_exp_variance)\n",
    "plt.axhline(y=0.90, color=\"r\", linestyle=\"--\")\n",
    "plt.xlabel(\"Principal Component\")\n",
    "plt.ylabel(\"Cumulative explained variance\")\n",
    "plt.title(\"Cumulative explained variance by Principal Component\")"
   ]
  },
  {
   "cell_type": "code",
   "execution_count": 75,
   "metadata": {},
   "outputs": [
    {
     "name": "stdout",
     "output_type": "stream",
     "text": [
      "35\n"
     ]
    }
   ],
   "source": [
    "# compute number of components to retain for 90% variance\n",
    "\n",
    "num_retain = np.argmax(cum_exp_variance > 0.90) + 1\n",
    "print(num_retain)"
   ]
  },
  {
   "cell_type": "code",
   "execution_count": 76,
   "metadata": {},
   "outputs": [],
   "source": [
    "# Re-apply PCA to the data while selecting for number of components to retain.\n",
    "\n",
    "pca = PCA(n_components=num_retain)\n",
    "final_pca = pca.fit_transform(df_scaled)"
   ]
  },
  {
   "cell_type": "code",
   "execution_count": 77,
   "metadata": {},
   "outputs": [
    {
     "data": {
      "text/plain": [
       "(780182, 35)"
      ]
     },
     "execution_count": 77,
     "metadata": {},
     "output_type": "execute_result"
    }
   ],
   "source": [
    "# check the final_pca\n",
    "\n",
    "final_pca.shape"
   ]
  },
  {
   "cell_type": "code",
   "execution_count": 78,
   "metadata": {},
   "outputs": [
    {
     "name": "stdout",
     "output_type": "stream",
     "text": [
      "0.9051693710275398\n"
     ]
    }
   ],
   "source": [
    "print(pca.explained_variance_ratio_.sum())"
   ]
  },
  {
   "cell_type": "markdown",
   "metadata": {},
   "source": [
    "### Discussion 2.2: Perform Dimensionality Reduction\n",
    "\n",
    "Using PCA we reduced the dimensionality of the data to 35 and got 90.5% of cumulative variance. Hence we will continue with it as on retaining 35 principal components we got approximately 90.5% of cumulative  variance in the data.\n",
    "\n",
    "References:\n",
    "\n",
    "https://www.analyticsvidhya.com/blog/2016/03/pca-practical-guide-principal-component-analysis-python/\n",
    "\n",
    "https://www.baeldung.com/cs/pca"
   ]
  },
  {
   "cell_type": "markdown",
   "metadata": {},
   "source": [
    "### Step 2.3: Interpret Principal Components\n",
    "\n",
    "Now that we have our transformed principal components, it's a nice idea to check out the weight of each variable on the first few components to see if they can be interpreted in some fashion.\n",
    "\n",
    "As a reminder, each principal component is a unit vector that points in the direction of highest variance (after accounting for the variance captured by earlier principal components). The further a weight is from zero, the more the principal component is in the direction of the corresponding feature. If two features have large weights of the same sign (both positive or both negative), then increases in one tend expect to be associated with increases in the other. To contrast, features with different signs can be expected to show a negative correlation: increases in one variable should result in a decrease in the other.\n",
    "\n",
    "- To investigate the features, you should map each weight to their corresponding feature name, then sort the features according to weight. The most interesting features for each principal component, then, will be those at the beginning and end of the sorted list. Use the data dictionary document to help you understand these most prominent features, their relationships, and what a positive or negative value on the principal component might indicate.\n",
    "- You should investigate and interpret feature associations from the first three principal components in this substep. To help facilitate this, you should write a function that you can call at any time to print the sorted list of feature weights, for the *i*-th principal component. This might come in handy in the next step of the project, when you interpret the tendencies of the discovered clusters."
   ]
  },
  {
   "cell_type": "code",
   "execution_count": 79,
   "metadata": {},
   "outputs": [],
   "source": [
    "# Map weights for the first principal component to corresponding feature names\n",
    "# and then print the linked values, sorted by weight.\n",
    "# HINT: Try defining a function here or in a new cell that you can reuse in the\n",
    "# other cells.\n",
    "\n",
    "def map_weights(df, pca, component_index):\n",
    "    \n",
    "    weights = pca.components_[component_index]\n",
    "    weights_df = pd.DataFrame(weights, index=df.columns, columns=[\"Weight\"])\n",
    "    # sort the dataframe by weights\n",
    "    sorted_weights = weights_df.sort_values(by=\"Weight\", ascending=False)\n",
    "    \n",
    "    return sorted_weights"
   ]
  },
  {
   "cell_type": "code",
   "execution_count": 80,
   "metadata": {},
   "outputs": [
    {
     "name": "stdout",
     "output_type": "stream",
     "text": [
      "                         Weight\n",
      "PLZ8_ANTG3             0.224217\n",
      "PLZ8_ANTG4             0.218429\n",
      "PLZ8_BAUMAX            0.212969\n",
      "WEALTH                 0.200909\n",
      "HH_EINKOMMEN_SCORE     0.197226\n",
      "ORTSGR_KLS9            0.196699\n",
      "EWDICHTE               0.194470\n",
      "FINANZ_HAUSBAUER       0.164460\n",
      "KBA05_ANTG4            0.152335\n",
      "PLZ8_ANTG2             0.152267\n",
      "ARBEIT                 0.141254\n",
      "ANZ_HAUSHALTE_AKTIV    0.133879\n",
      "KBA05_ANTG3            0.133266\n",
      "RELAT_AB               0.133065\n",
      "FINANZ_SPARER          0.115429\n",
      "SEMIO_PFLICHT          0.086149\n",
      "SEMIO_REL              0.083230\n",
      "SEMIO_RAT              0.070605\n",
      "DECADE                 0.070108\n",
      "REGIOTYP               0.063479\n",
      "SEMIO_TRADV            0.061546\n",
      "SEMIO_MAT              0.060549\n",
      "SEMIO_FAM              0.059952\n",
      "W_KEIT_KIND_HH         0.055943\n",
      "OST_WEST_KZ            0.053593\n",
      "SEMIO_KULT             0.050159\n",
      "FINANZ_UNAUFFAELLIGER  0.049615\n",
      "SEMIO_KAEM             0.043172\n",
      "FINANZ_ANLEGER         0.042735\n",
      "PLZ8_HHZ               0.041796\n",
      "ANZ_HH_TITEL           0.035058\n",
      "SEMIO_SOZ              0.033758\n",
      "KKK                    0.033747\n",
      "VERS_TYP               0.032965\n",
      "SEMIO_DOM              0.025812\n",
      "HEALTH_TYP             0.022475\n",
      "SEMIO_KRIT             0.014006\n",
      "ANREDE_KZ              0.010661\n",
      "KBA05_ANTG2            0.008885\n",
      "RETOURTYP_BK_S        -0.000760\n",
      "SOHO_KZ               -0.002180\n",
      "ANZ_TITEL             -0.003486\n",
      "SEMIO_VERT            -0.040262\n",
      "SEMIO_LUST            -0.051502\n",
      "SEMIO_ERL             -0.053187\n",
      "WOHNDAUER_2008        -0.055993\n",
      "MIN_GEBAEUDEJAHR      -0.059532\n",
      "ONLINE_AFFINITAET     -0.063522\n",
      "KBA13_ANZAHL_PKW      -0.078203\n",
      "FINANZ_VORSORGER      -0.086147\n",
      "WOHNLAGE              -0.086267\n",
      "ALTERSKATEGORIE_GROB  -0.087702\n",
      "ANZ_PERSONEN          -0.095346\n",
      "MOVEMENT              -0.103573\n",
      "GREEN_AVANTGARDE      -0.103573\n",
      "GEBAEUDETYP_RASTER    -0.116901\n",
      "LIFE_STAGE            -0.117911\n",
      "BALLRAUM              -0.125993\n",
      "LP_LEBENSPHASE_GROB   -0.131954\n",
      "LP_LEBENSPHASE_FEIN   -0.145880\n",
      "INNENSTADT            -0.163254\n",
      "PLZ8_GBZ              -0.166623\n",
      "KONSUMNAEHE           -0.166857\n",
      "FINANZ_MINIMALIST     -0.200179\n",
      "KBA05_GBZ             -0.210954\n",
      "KBA05_ANTG1           -0.216795\n",
      "PLZ8_ANTG1            -0.223760\n",
      "MOBI_REGIO            -0.236225\n"
     ]
    }
   ],
   "source": [
    "# Map weights for the first principal component to corresponding feature names\n",
    "# and then print the linked values, sorted by weight.\n",
    "\n",
    "first_component = map_weights(df_scaled, pca, 0)\n",
    "print(first_component)"
   ]
  },
  {
   "cell_type": "code",
   "execution_count": 81,
   "metadata": {},
   "outputs": [
    {
     "name": "stdout",
     "output_type": "stream",
     "text": [
      "                         Weight\n",
      "ALTERSKATEGORIE_GROB   0.271870\n",
      "FINANZ_VORSORGER       0.244090\n",
      "SEMIO_ERL              0.235628\n",
      "SEMIO_LUST             0.190258\n",
      "RETOURTYP_BK_S         0.165132\n",
      "W_KEIT_KIND_HH         0.116183\n",
      "SEMIO_KRIT             0.113265\n",
      "SEMIO_KAEM             0.103393\n",
      "FINANZ_MINIMALIST      0.094618\n",
      "FINANZ_HAUSBAUER       0.093790\n",
      "ANREDE_KZ              0.085504\n",
      "EWDICHTE               0.067639\n",
      "ORTSGR_KLS9            0.066419\n",
      "WOHNDAUER_2008         0.065437\n",
      "SEMIO_DOM              0.064640\n",
      "PLZ8_ANTG3             0.064591\n",
      "PLZ8_ANTG4             0.061490\n",
      "PLZ8_BAUMAX            0.056369\n",
      "KBA05_ANTG4            0.050008\n",
      "ARBEIT                 0.048194\n",
      "RELAT_AB               0.046932\n",
      "WEALTH                 0.045347\n",
      "PLZ8_ANTG2             0.044867\n",
      "ANZ_HAUSHALTE_AKTIV    0.043777\n",
      "KBA05_ANTG3            0.027006\n",
      "VERS_TYP               0.026853\n",
      "HH_EINKOMMEN_SCORE     0.026316\n",
      "ANZ_HH_TITEL           0.026286\n",
      "LIFE_STAGE             0.018174\n",
      "OST_WEST_KZ            0.017802\n",
      "PLZ8_HHZ               0.008573\n",
      "ANZ_TITEL              0.007734\n",
      "REGIOTYP               0.007380\n",
      "GREEN_AVANTGARDE       0.001628\n",
      "MOVEMENT               0.001628\n",
      "SOHO_KZ               -0.001777\n",
      "KKK                   -0.006982\n",
      "KBA05_ANTG2           -0.009668\n",
      "LP_LEBENSPHASE_FEIN   -0.023701\n",
      "KBA13_ANZAHL_PKW      -0.025588\n",
      "GEBAEUDETYP_RASTER    -0.028622\n",
      "LP_LEBENSPHASE_GROB   -0.031978\n",
      "MIN_GEBAEUDEJAHR      -0.040044\n",
      "BALLRAUM              -0.044779\n",
      "KBA05_ANTG1           -0.046375\n",
      "WOHNLAGE              -0.046447\n",
      "KONSUMNAEHE           -0.048033\n",
      "PLZ8_GBZ              -0.050086\n",
      "INNENSTADT            -0.053684\n",
      "ANZ_PERSONEN          -0.054886\n",
      "MOBI_REGIO            -0.056275\n",
      "KBA05_GBZ             -0.058047\n",
      "HEALTH_TYP            -0.060874\n",
      "SEMIO_VERT            -0.061187\n",
      "PLZ8_ANTG1            -0.061620\n",
      "SEMIO_SOZ             -0.105029\n",
      "ONLINE_AFFINITAET     -0.158278\n",
      "SEMIO_MAT             -0.169327\n",
      "SEMIO_RAT             -0.181722\n",
      "SEMIO_FAM             -0.188687\n",
      "FINANZ_ANLEGER        -0.213119\n",
      "SEMIO_KULT            -0.224725\n",
      "FINANZ_UNAUFFAELLIGER -0.232987\n",
      "SEMIO_TRADV           -0.239613\n",
      "SEMIO_PFLICHT         -0.240573\n",
      "FINANZ_SPARER         -0.251108\n",
      "DECADE                -0.261603\n",
      "SEMIO_REL             -0.264952\n"
     ]
    }
   ],
   "source": [
    "# Map weights for the second principal component to corresponding feature names\n",
    "# and then print the linked values, sorted by weight.\n",
    "\n",
    "second_component = map_weights(df_scaled, pca, 1)\n",
    "print(second_component)"
   ]
  },
  {
   "cell_type": "code",
   "execution_count": 82,
   "metadata": {},
   "outputs": [
    {
     "name": "stdout",
     "output_type": "stream",
     "text": [
      "                         Weight\n",
      "SEMIO_VERT             0.347372\n",
      "SEMIO_SOZ              0.263384\n",
      "SEMIO_FAM              0.249914\n",
      "SEMIO_KULT             0.234703\n",
      "FINANZ_MINIMALIST      0.161419\n",
      "RETOURTYP_BK_S         0.106590\n",
      "FINANZ_VORSORGER       0.099220\n",
      "W_KEIT_KIND_HH         0.085927\n",
      "ALTERSKATEGORIE_GROB   0.077470\n",
      "SEMIO_REL              0.070714\n",
      "SEMIO_LUST             0.063471\n",
      "GREEN_AVANTGARDE       0.056374\n",
      "MOVEMENT               0.056374\n",
      "SEMIO_MAT              0.055273\n",
      "ORTSGR_KLS9            0.045113\n",
      "PLZ8_BAUMAX            0.044241\n",
      "EWDICHTE               0.044219\n",
      "PLZ8_ANTG4             0.042218\n",
      "PLZ8_ANTG3             0.041250\n",
      "WOHNDAUER_2008         0.033981\n",
      "ARBEIT                 0.031533\n",
      "RELAT_AB               0.028899\n",
      "PLZ8_ANTG2             0.027322\n",
      "KBA05_ANTG4            0.023343\n",
      "ANZ_HAUSHALTE_AKTIV    0.020683\n",
      "WEALTH                 0.019772\n",
      "OST_WEST_KZ            0.013366\n",
      "ANZ_HH_TITEL           0.012356\n",
      "ANZ_TITEL              0.010402\n",
      "LP_LEBENSPHASE_FEIN    0.007169\n",
      "VERS_TYP               0.004848\n",
      "KBA05_ANTG3            0.004315\n",
      "LP_LEBENSPHASE_GROB    0.004272\n",
      "PLZ8_HHZ               0.004073\n",
      "SOHO_KZ                0.000257\n",
      "ANZ_PERSONEN          -0.003057\n",
      "LIFE_STAGE            -0.005419\n",
      "REGIOTYP              -0.009395\n",
      "KBA05_ANTG2           -0.011284\n",
      "KBA05_ANTG1           -0.014726\n",
      "MIN_GEBAEUDEJAHR      -0.015446\n",
      "HEALTH_TYP            -0.017810\n",
      "KBA05_GBZ             -0.019299\n",
      "KKK                   -0.019304\n",
      "MOBI_REGIO            -0.021688\n",
      "KBA13_ANZAHL_PKW      -0.021957\n",
      "WOHNLAGE              -0.023008\n",
      "GEBAEUDETYP_RASTER    -0.028269\n",
      "HH_EINKOMMEN_SCORE    -0.028844\n",
      "BALLRAUM              -0.033860\n",
      "KONSUMNAEHE           -0.034945\n",
      "PLZ8_GBZ              -0.035580\n",
      "INNENSTADT            -0.041139\n",
      "PLZ8_ANTG1            -0.041679\n",
      "ONLINE_AFFINITAET     -0.048212\n",
      "FINANZ_HAUSBAUER      -0.050956\n",
      "SEMIO_TRADV           -0.076957\n",
      "SEMIO_PFLICHT         -0.078314\n",
      "FINANZ_UNAUFFAELLIGER -0.096637\n",
      "DECADE                -0.104335\n",
      "FINANZ_SPARER         -0.105717\n",
      "SEMIO_ERL             -0.176451\n",
      "FINANZ_ANLEGER        -0.188855\n",
      "SEMIO_RAT             -0.216003\n",
      "SEMIO_KRIT            -0.275440\n",
      "SEMIO_DOM             -0.313017\n",
      "SEMIO_KAEM            -0.338127\n",
      "ANREDE_KZ             -0.369158\n"
     ]
    }
   ],
   "source": [
    "# Map weights for the third principal component to corresponding feature names\n",
    "# and then print the linked values, sorted by weight.\n",
    "\n",
    "third_component = map_weights(df_scaled, pca, 2)\n",
    "print(third_component)"
   ]
  },
  {
   "cell_type": "markdown",
   "metadata": {},
   "source": [
    "### Discussion 2.3: Interpret Principal Components\n",
    "\n",
    "### First principal component\n",
    "\n",
    "Positive Weights:\n",
    "- MOBI_REGIO - Movement patterns\n",
    "- PLZ8_ANTG1 - Number of 1-2 family houses in the PLZ8 region\n",
    "- KBA05_ANTG1 - Number of 1-2 family houses in the microcell\n",
    "\n",
    "Negative Weights:\n",
    "- PLZ8_ANTG4 - Number of 10+ family houses in the PLZ8 region\n",
    "- PLZ8_ANTG3 - Number of 6-10 family houses in the PLZ8 region\n",
    "- PLZ8_BAUMAX - Most common building type within the PLZ8 region\n",
    "\n",
    "*Both positive and negative values highlight mobilty patterns and prefrences in housing.*\n",
    "\n",
    "### Second principal component\n",
    "\n",
    "Positive Weights:\n",
    "- ALTERSKATEGORIE_GROB - Estimated age based on given name analysis\n",
    "- FINANZ_VORSORGER - Financial typology, for each dimension\n",
    "- SEMIO_ERL - Personality typology\n",
    "\n",
    "Negative Weights:\n",
    "- FINANZ_SPARER - Financial typology\n",
    "- DECADE - Generation\n",
    "- SEMIO_REL - Personality typology\n",
    "\n",
    "*The second component indicates relationship between age, personality and financial topologies.*\n",
    "\n",
    "### Third principal component\n",
    "\n",
    "Positive Weights:\n",
    "- ANREDE_KZ - Gender\n",
    "- SEMIO_KAEM - Personality typology\n",
    "- SEMIO_DOM - Personality typology\n",
    "\n",
    "Negative Weights:\n",
    "- SEMIO_VERT - Personality typology\n",
    "- SEMIO_SOZ - Personality typology\n",
    "- SEMIO_FAM - Personality typology\n",
    "\n",
    "*The third component focuses on gender and personality, with positive values representing dominating and comabitve attitudes.*"
   ]
  },
  {
   "cell_type": "markdown",
   "metadata": {},
   "source": [
    "## Step 3: Clustering\n",
    "\n",
    "### Step 3.1: Apply Clustering to General Population\n",
    "\n",
    "You've assessed and cleaned the demographics data, then scaled and transformed them. Now, it's time to see how the data clusters in the principal components space. In this substep, you will apply k-means clustering to the dataset and use the average within-cluster distances from each point to their assigned cluster's centroid to decide on a number of clusters to keep.\n",
    "\n",
    "- Use sklearn's [KMeans](http://scikit-learn.org/stable/modules/generated/sklearn.cluster.KMeans.html#sklearn.cluster.KMeans) class to perform k-means clustering on the PCA-transformed data.\n",
    "- Then, compute the average difference from each point to its assigned cluster's center. **Hint**: The KMeans object's `.score()` method might be useful here, but note that in sklearn, scores tend to be defined so that larger is better. Try applying it to a small, toy dataset, or use an internet search to help your understanding.\n",
    "- Perform the above two steps for a number of different cluster counts. You can then see how the average distance decreases with an increasing number of clusters. However, each additional cluster provides a smaller net benefit. Use this fact to select a final number of clusters in which to group the data. **Warning**: because of the large size of the dataset, it can take a long time for the algorithm to resolve. The more clusters to fit, the longer the algorithm will take. You should test for cluster counts through at least 10 clusters to get the full picture, but you shouldn't need to test for a number of clusters above about 30.\n",
    "- Once you've selected a final number of clusters to use, re-fit a KMeans instance to perform the clustering operation. Make sure that you also obtain the cluster assignments for the general demographics data, since you'll be using them in the final Step 3.3."
   ]
  },
  {
   "cell_type": "code",
   "execution_count": 83,
   "metadata": {},
   "outputs": [],
   "source": [
    "# Over a number of different cluster counts...\n",
    "cluster_range = np.arange(10, 31)\n",
    "\n",
    "# store inertia scores\n",
    "inertia_scores = []\n",
    "\n",
    "# run k-means (MiniBatchKMeans) clustering on the data and...\n",
    "\n",
    "for k in cluster_range:\n",
    "        \n",
    "    # compute the average within-cluster distances.\n",
    "    mbkmeans = MiniBatchKMeans(n_clusters = k, batch_size = 100, random_state = 42)\n",
    "    mbkmeans.fit(final_pca)\n",
    "    \n",
    "    # store inertia for current clusters\n",
    "    inertia_scores.append(mbkmeans.inertia_)"
   ]
  },
  {
   "cell_type": "code",
   "execution_count": 84,
   "metadata": {},
   "outputs": [
    {
     "data": {
      "image/png": "[encoded data removed]",
      "text/plain": [
       "<matplotlib.figure.Figure at 0x7bdae12eb860>"
      ]
     },
     "metadata": {
      "needs_background": "light"
     },
     "output_type": "display_data"
    }
   ],
   "source": [
    "# Investigate the change in within-cluster distance across number of clusters.\n",
    "# HINT: Use matplotlib's plot function to visualize this relationship.\n",
    "\n",
    "plt.figure(figsize=(10, 6))\n",
    "plt.plot(cluster_range, inertia_scores, marker=\"o\", linestyle=\"--\")\n",
    "\n",
    "plt.xlabel(\"Number of clusters (K)\")\n",
    "plt.ylabel(\"Inertia\")\n",
    "plt.title(\"Relationship between clusters (K) and Inertia\")\n",
    "plt.grid(True)\n",
    "plt.show()"
   ]
  },
  {
   "cell_type": "code",
   "execution_count": 85,
   "metadata": {},
   "outputs": [
    {
     "data": {
      "image/png": "[encoded data removed]",
      "text/plain": [
       "<matplotlib.figure.Figure at 0x7bdae12e54a8>"
      ]
     },
     "metadata": {
      "needs_background": "light"
     },
     "output_type": "display_data"
    }
   ],
   "source": [
    "# using the kneelocator to find the knee point\n",
    "\n",
    "k1 = KneeLocator(cluster_range, inertia_scores, curve=\"convex\", direction=\"decreasing\")\n",
    "k1.plot_knee()\n",
    "plt.show()"
   ]
  },
  {
   "cell_type": "code",
   "execution_count": 86,
   "metadata": {},
   "outputs": [
    {
     "data": {
      "text/plain": [
       "17"
      ]
     },
     "execution_count": 86,
     "metadata": {},
     "output_type": "execute_result"
    }
   ],
   "source": [
    "# find the optimal number of clusters\n",
    "\n",
    "optimal_clusters = k1.elbow\n",
    "optimal_clusters"
   ]
  },
  {
   "cell_type": "code",
   "execution_count": 87,
   "metadata": {},
   "outputs": [],
   "source": [
    "# Re-fit the k-means model with the selected number of clusters and obtain\n",
    "# cluster predictions for the general population demographics data.\n",
    "\n",
    "mbkmeans = MiniBatchKMeans(n_clusters=optimal_clusters, batch_size=100, random_state=42)\n",
    "mbkmeans = mbkmeans.fit(final_pca)\n",
    "\n",
    "# get the cluster predictions\n",
    "mbkmeans_pred = mbkmeans.predict(final_pca)"
   ]
  },
  {
   "cell_type": "markdown",
   "metadata": {},
   "source": [
    "### Discussion 3.1: Apply Clustering to General Population\n",
    "\n",
    "We used MiniBatchKMeans for clustering because of its speed and efficiecy. Inplace of silhouette score, we computed inertia, as its faster and simpler.Also, we used the elbow method and Kneelocator to determine the optimal number of segments would be 17. And, finally we refitted the model with 17 clusters.\n",
    "\n",
    "\n",
    "*References:*\n",
    "\n",
    "https://realpython.com/k-means-clustering-python/\n",
    "\n",
    "https://www.analyticsvidhya.com/blog/2021/05/k-mean-getting-the-optimal-number-of-clusters/"
   ]
  },
  {
   "cell_type": "markdown",
   "metadata": {},
   "source": [
    "### Step 3.2: Apply All Steps to the Customer Data\n",
    "\n",
    "Now that you have clusters and cluster centers for the general population, it's time to see how the customer data maps on to those clusters. Take care to not confuse this for re-fitting all of the models to the customer data. Instead, you're going to use the fits from the general population to clean, transform, and cluster the customer data. In the last step of the project, you will interpret how the general population fits apply to the customer data.\n",
    "\n",
    "- Don't forget when loading in the customers data, that it is semicolon (`;`) delimited.\n",
    "- Apply the same feature wrangling, selection, and engineering steps to the customer demographics using the `clean_data()` function you created earlier. (You can assume that the customer demographics data has similar meaning behind missing data patterns as the general demographics data.)\n",
    "- Use the sklearn objects from the general demographics data, and apply their transformations to the customers data. That is, you should not be using a `.fit()` or `.fit_transform()` method to re-fit the old objects, nor should you be creating new sklearn objects! Carry the data through the feature scaling, PCA, and clustering steps, obtaining cluster assignments for all of the data in the customer demographics data."
   ]
  },
  {
   "cell_type": "code",
   "execution_count": 218,
   "metadata": {},
   "outputs": [],
   "source": [
    "# Load in the customer demographics data.\n",
    "customers = pd.read_csv(\"Udacity_CUSTOMERS_Subset.csv\", sep=\";\")"
   ]
  },
  {
   "cell_type": "code",
   "execution_count": 219,
   "metadata": {},
   "outputs": [
    {
     "data": {
      "text/plain": [
       "(191652, 85)"
      ]
     },
     "execution_count": 219,
     "metadata": {},
     "output_type": "execute_result"
    }
   ],
   "source": [
    "customers.shape"
   ]
  },
  {
   "cell_type": "code",
   "execution_count": 220,
   "metadata": {},
   "outputs": [],
   "source": [
    "# Cleaning the dataset\n",
    "cleaned_customers = clean_data(customers)"
   ]
  },
  {
   "cell_type": "code",
   "execution_count": 221,
   "metadata": {},
   "outputs": [
    {
     "data": {
      "text/plain": [
       "(139278, 66)"
      ]
     },
     "execution_count": 221,
     "metadata": {},
     "output_type": "execute_result"
    }
   ],
   "source": [
    "cleaned_customers.shape"
   ]
  },
  {
   "cell_type": "code",
   "execution_count": 222,
   "metadata": {},
   "outputs": [
    {
     "name": "stdout",
     "output_type": "stream",
     "text": [
      "{'REGIOTYP', 'KKK'}\n"
     ]
    }
   ],
   "source": [
    "# check if there are any missing columns in customers dataset\n",
    "\n",
    "print(set(df_scaled.columns) - set(cleaned_customers.columns))"
   ]
  },
  {
   "cell_type": "code",
   "execution_count": 223,
   "metadata": {},
   "outputs": [],
   "source": [
    "# to safely apply feature scaling - set the missing columns to 0\n",
    "cleaned_customers['KKK'] = 0\n",
    "cleaned_customers['REGIOTYP'] = 0"
   ]
  },
  {
   "cell_type": "code",
   "execution_count": 224,
   "metadata": {},
   "outputs": [
    {
     "data": {
      "text/plain": [
       "(139278, 68)"
      ]
     },
     "execution_count": 224,
     "metadata": {},
     "output_type": "execute_result"
    }
   ],
   "source": [
    "cleaned_customers.shape"
   ]
  },
  {
   "cell_type": "code",
   "execution_count": 225,
   "metadata": {},
   "outputs": [
    {
     "data": {
      "text/plain": [
       "(780182, 68)"
      ]
     },
     "execution_count": 225,
     "metadata": {},
     "output_type": "execute_result"
    }
   ],
   "source": [
    "df_scaled.shape"
   ]
  },
  {
   "cell_type": "code",
   "execution_count": 226,
   "metadata": {},
   "outputs": [
    {
     "data": {
      "text/plain": [
       "(780182, 68)"
      ]
     },
     "execution_count": 226,
     "metadata": {},
     "output_type": "execute_result"
    }
   ],
   "source": [
    "data_below_threshold.shape"
   ]
  },
  {
   "cell_type": "code",
   "execution_count": 184,
   "metadata": {},
   "outputs": [],
   "source": [
    "# assert cleaned_customers.shape[0] == df_scaled.shape[0], \"clean_data function is not working properly, rows mismatch\"\n",
    "# assert cleaned_customers.shape[1] == df_scaled.shape[1], \"clean_data function is not working properly, columns mismatch\"\n",
    "# print(\"If this is all you see, you passed the tests\")"
   ]
  },
  {
   "cell_type": "code",
   "execution_count": 227,
   "metadata": {},
   "outputs": [
    {
     "name": "stdout",
     "output_type": "stream",
     "text": [
      "74429\n"
     ]
    }
   ],
   "source": [
    "# check for missing values\n",
    "print(cleaned_customers.isna().sum().sum())"
   ]
  },
  {
   "cell_type": "code",
   "execution_count": 228,
   "metadata": {},
   "outputs": [
    {
     "ename": "ValueError",
     "evalue": "X has 35 features, but SimpleImputer is expecting 38 features as input.",
     "output_type": "error",
     "traceback": [
      "\u001b[0;31m---------------------------------------------------------------------------\u001b[0m",
      "\u001b[0;31mValueError\u001b[0m                                Traceback (most recent call last)",
      "\u001b[0;32m<ipython-input-228-350454815cc2>\u001b[0m in \u001b[0;36m<module>\u001b[0;34m()\u001b[0m\n\u001b[1;32m      1\u001b[0m \u001b[0mmissing_cols\u001b[0m \u001b[0;34m=\u001b[0m \u001b[0mcleaned_customers\u001b[0m\u001b[0;34m.\u001b[0m\u001b[0mcolumns\u001b[0m\u001b[0;34m[\u001b[0m\u001b[0mcleaned_customers\u001b[0m\u001b[0;34m.\u001b[0m\u001b[0misna\u001b[0m\u001b[0;34m(\u001b[0m\u001b[0;34m)\u001b[0m\u001b[0;34m.\u001b[0m\u001b[0many\u001b[0m\u001b[0;34m(\u001b[0m\u001b[0;34m)\u001b[0m\u001b[0;34m]\u001b[0m\u001b[0;34m\u001b[0m\u001b[0m\n\u001b[0;32m----> 2\u001b[0;31m \u001b[0mcleaned_customers\u001b[0m\u001b[0;34m[\u001b[0m\u001b[0mmissing_cols\u001b[0m\u001b[0;34m]\u001b[0m \u001b[0;34m=\u001b[0m \u001b[0mimputer\u001b[0m\u001b[0;34m.\u001b[0m\u001b[0mtransform\u001b[0m\u001b[0;34m(\u001b[0m\u001b[0mcleaned_customers\u001b[0m\u001b[0;34m[\u001b[0m\u001b[0mmissing_cols\u001b[0m\u001b[0;34m]\u001b[0m\u001b[0;34m)\u001b[0m\u001b[0;34m\u001b[0m\u001b[0m\n\u001b[0m",
      "\u001b[0;32m/opt/conda/lib/python3.6/site-packages/sklearn/impute/_base.py\u001b[0m in \u001b[0;36mtransform\u001b[0;34m(self, X)\u001b[0m\n\u001b[1;32m    430\u001b[0m         \u001b[0mcheck_is_fitted\u001b[0m\u001b[0;34m(\u001b[0m\u001b[0mself\u001b[0m\u001b[0;34m)\u001b[0m\u001b[0;34m\u001b[0m\u001b[0m\n\u001b[1;32m    431\u001b[0m \u001b[0;34m\u001b[0m\u001b[0m\n\u001b[0;32m--> 432\u001b[0;31m         \u001b[0mX\u001b[0m \u001b[0;34m=\u001b[0m \u001b[0mself\u001b[0m\u001b[0;34m.\u001b[0m\u001b[0m_validate_input\u001b[0m\u001b[0;34m(\u001b[0m\u001b[0mX\u001b[0m\u001b[0;34m,\u001b[0m \u001b[0min_fit\u001b[0m\u001b[0;34m=\u001b[0m\u001b[0;32mFalse\u001b[0m\u001b[0;34m)\u001b[0m\u001b[0;34m\u001b[0m\u001b[0m\n\u001b[0m\u001b[1;32m    433\u001b[0m         \u001b[0mstatistics\u001b[0m \u001b[0;34m=\u001b[0m \u001b[0mself\u001b[0m\u001b[0;34m.\u001b[0m\u001b[0mstatistics_\u001b[0m\u001b[0;34m\u001b[0m\u001b[0m\n\u001b[1;32m    434\u001b[0m \u001b[0;34m\u001b[0m\u001b[0m\n",
      "\u001b[0;32m/opt/conda/lib/python3.6/site-packages/sklearn/impute/_base.py\u001b[0m in \u001b[0;36m_validate_input\u001b[0;34m(self, X, in_fit)\u001b[0m\n\u001b[1;32m    260\u001b[0m                 \u001b[0;32mraise\u001b[0m \u001b[0mnew_ve\u001b[0m \u001b[0;32mfrom\u001b[0m \u001b[0;32mNone\u001b[0m\u001b[0;34m\u001b[0m\u001b[0m\n\u001b[1;32m    261\u001b[0m             \u001b[0;32melse\u001b[0m\u001b[0;34m:\u001b[0m\u001b[0;34m\u001b[0m\u001b[0m\n\u001b[0;32m--> 262\u001b[0;31m                 \u001b[0;32mraise\u001b[0m \u001b[0mve\u001b[0m\u001b[0;34m\u001b[0m\u001b[0m\n\u001b[0m\u001b[1;32m    263\u001b[0m \u001b[0;34m\u001b[0m\u001b[0m\n\u001b[1;32m    264\u001b[0m         \u001b[0m_check_inputs_dtype\u001b[0m\u001b[0;34m(\u001b[0m\u001b[0mX\u001b[0m\u001b[0;34m,\u001b[0m \u001b[0mself\u001b[0m\u001b[0;34m.\u001b[0m\u001b[0mmissing_values\u001b[0m\u001b[0;34m)\u001b[0m\u001b[0;34m\u001b[0m\u001b[0m\n",
      "\u001b[0;32m/opt/conda/lib/python3.6/site-packages/sklearn/impute/_base.py\u001b[0m in \u001b[0;36m_validate_input\u001b[0;34m(self, X, in_fit)\u001b[0m\n\u001b[1;32m    253\u001b[0m                                     \u001b[0maccept_sparse\u001b[0m\u001b[0;34m=\u001b[0m\u001b[0;34m'csc'\u001b[0m\u001b[0;34m,\u001b[0m \u001b[0mdtype\u001b[0m\u001b[0;34m=\u001b[0m\u001b[0mdtype\u001b[0m\u001b[0;34m,\u001b[0m\u001b[0;34m\u001b[0m\u001b[0m\n\u001b[1;32m    254\u001b[0m                                     \u001b[0mforce_all_finite\u001b[0m\u001b[0;34m=\u001b[0m\u001b[0mforce_all_finite\u001b[0m\u001b[0;34m,\u001b[0m\u001b[0;34m\u001b[0m\u001b[0m\n\u001b[0;32m--> 255\u001b[0;31m                                     copy=self.copy)\n\u001b[0m\u001b[1;32m    256\u001b[0m         \u001b[0;32mexcept\u001b[0m \u001b[0mValueError\u001b[0m \u001b[0;32mas\u001b[0m \u001b[0mve\u001b[0m\u001b[0;34m:\u001b[0m\u001b[0;34m\u001b[0m\u001b[0m\n\u001b[1;32m    257\u001b[0m             \u001b[0;32mif\u001b[0m \u001b[0;34m\"could not convert\"\u001b[0m \u001b[0;32min\u001b[0m \u001b[0mstr\u001b[0m\u001b[0;34m(\u001b[0m\u001b[0mve\u001b[0m\u001b[0;34m)\u001b[0m\u001b[0;34m:\u001b[0m\u001b[0;34m\u001b[0m\u001b[0m\n",
      "\u001b[0;32m/opt/conda/lib/python3.6/site-packages/sklearn/base.py\u001b[0m in \u001b[0;36m_validate_data\u001b[0;34m(self, X, y, reset, validate_separately, **check_params)\u001b[0m\n\u001b[1;32m    435\u001b[0m \u001b[0;34m\u001b[0m\u001b[0m\n\u001b[1;32m    436\u001b[0m         \u001b[0;32mif\u001b[0m \u001b[0mcheck_params\u001b[0m\u001b[0;34m.\u001b[0m\u001b[0mget\u001b[0m\u001b[0;34m(\u001b[0m\u001b[0;34m'ensure_2d'\u001b[0m\u001b[0;34m,\u001b[0m \u001b[0;32mTrue\u001b[0m\u001b[0;34m)\u001b[0m\u001b[0;34m:\u001b[0m\u001b[0;34m\u001b[0m\u001b[0m\n\u001b[0;32m--> 437\u001b[0;31m             \u001b[0mself\u001b[0m\u001b[0;34m.\u001b[0m\u001b[0m_check_n_features\u001b[0m\u001b[0;34m(\u001b[0m\u001b[0mX\u001b[0m\u001b[0;34m,\u001b[0m \u001b[0mreset\u001b[0m\u001b[0;34m=\u001b[0m\u001b[0mreset\u001b[0m\u001b[0;34m)\u001b[0m\u001b[0;34m\u001b[0m\u001b[0m\n\u001b[0m\u001b[1;32m    438\u001b[0m \u001b[0;34m\u001b[0m\u001b[0m\n\u001b[1;32m    439\u001b[0m         \u001b[0;32mreturn\u001b[0m \u001b[0mout\u001b[0m\u001b[0;34m\u001b[0m\u001b[0m\n",
      "\u001b[0;32m/opt/conda/lib/python3.6/site-packages/sklearn/base.py\u001b[0m in \u001b[0;36m_check_n_features\u001b[0;34m(self, X, reset)\u001b[0m\n\u001b[1;32m    364\u001b[0m         \u001b[0;32mif\u001b[0m \u001b[0mn_features\u001b[0m \u001b[0;34m!=\u001b[0m \u001b[0mself\u001b[0m\u001b[0;34m.\u001b[0m\u001b[0mn_features_in_\u001b[0m\u001b[0;34m:\u001b[0m\u001b[0;34m\u001b[0m\u001b[0m\n\u001b[1;32m    365\u001b[0m             raise ValueError(\n\u001b[0;32m--> 366\u001b[0;31m                 \u001b[0;34mf\"X has {n_features} features, but {self.__class__.__name__} \"\u001b[0m\u001b[0;34m\u001b[0m\u001b[0m\n\u001b[0m\u001b[1;32m    367\u001b[0m                 f\"is expecting {self.n_features_in_} features as input.\")\n\u001b[1;32m    368\u001b[0m \u001b[0;34m\u001b[0m\u001b[0m\n",
      "\u001b[0;31mValueError\u001b[0m: X has 35 features, but SimpleImputer is expecting 38 features as input."
     ]
    }
   ],
   "source": [
    "missing_cols = cleaned_customers.columns[cleaned_customers.isna().any()]\n",
    "cleaned_customers[missing_cols] = imputer.transform(cleaned_customers[missing_cols])"
   ]
  },
  {
   "cell_type": "code",
   "execution_count": 111,
   "metadata": {},
   "outputs": [
    {
     "name": "stdout",
     "output_type": "stream",
     "text": [
      "0\n"
     ]
    }
   ],
   "source": [
    "# check for missing values\n",
    "print(cleaned_customers.isna().sum().sum())"
   ]
  },
  {
   "cell_type": "code",
   "execution_count": null,
   "metadata": {},
   "outputs": [],
   "source": []
  },
  {
   "cell_type": "code",
   "execution_count": null,
   "metadata": {},
   "outputs": [],
   "source": []
  },
  {
   "cell_type": "code",
   "execution_count": null,
   "metadata": {},
   "outputs": [],
   "source": []
  },
  {
   "cell_type": "code",
   "execution_count": 96,
   "metadata": {},
   "outputs": [],
   "source": [
    "# Apply preprocessing, feature transformation, and clustering from the general\n",
    "# demographics onto the customer data, obtaining cluster predictions for the\n",
    "# customer demographics data.\n",
    "\n"
   ]
  },
  {
   "cell_type": "code",
   "execution_count": null,
   "metadata": {},
   "outputs": [],
   "source": []
  },
  {
   "cell_type": "code",
   "execution_count": null,
   "metadata": {},
   "outputs": [],
   "source": []
  },
  {
   "cell_type": "code",
   "execution_count": null,
   "metadata": {},
   "outputs": [],
   "source": []
  },
  {
   "cell_type": "code",
   "execution_count": null,
   "metadata": {},
   "outputs": [],
   "source": []
  },
  {
   "cell_type": "markdown",
   "metadata": {},
   "source": [
    "### Step 3.3: Compare Customer Data to Demographics Data\n",
    "\n",
    "At this point, you have clustered data based on demographics of the general population of Germany, and seen how the customer data for a mail-order sales company maps onto those demographic clusters. In this final substep, you will compare the two cluster distributions to see where the strongest customer base for the company is.\n",
    "\n",
    "Consider the proportion of persons in each cluster for the general population, and the proportions for the customers. If we think the company's customer base to be universal, then the cluster assignment proportions should be fairly similar between the two. If there are only particular segments of the population that are interested in the company's products, then we should see a mismatch from one to the other. If there is a higher proportion of persons in a cluster for the customer data compared to the general population (e.g. 5% of persons are assigned to a cluster for the general population, but 15% of the customer data is closest to that cluster's centroid) then that suggests the people in that cluster to be a target audience for the company. On the other hand, the proportion of the data in a cluster being larger in the general population than the customer data (e.g. only 2% of customers closest to a population centroid that captures 6% of the data) suggests that group of persons to be outside of the target demographics.\n",
    "\n",
    "Take a look at the following points in this step:\n",
    "\n",
    "- Compute the proportion of data points in each cluster for the general population and the customer data. Visualizations will be useful here: both for the individual dataset proportions, but also to visualize the ratios in cluster representation between groups. Seaborn's [`countplot()`](https://seaborn.pydata.org/generated/seaborn.countplot.html) or [`barplot()`](https://seaborn.pydata.org/generated/seaborn.barplot.html) function could be handy.\n",
    "  - Recall the analysis you performed in step 1.1.3 of the project, where you separated out certain data points from the dataset if they had more than a specified threshold of missing values. If you found that this group was qualitatively different from the main bulk of the data, you should treat this as an additional data cluster in this analysis. Make sure that you account for the number of data points in this subset, for both the general population and customer datasets, when making your computations!\n",
    "- Which cluster or clusters are overrepresented in the customer dataset compared to the general population? Select at least one such cluster and infer what kind of people might be represented by that cluster. Use the principal component interpretations from step 2.3 or look at additional components to help you make this inference. Alternatively, you can use the `.inverse_transform()` method of the PCA and StandardScaler objects to transform centroids back to the original data space and interpret the retrieved values directly.\n",
    "- Perform a similar investigation for the underrepresented clusters. Which cluster or clusters are underrepresented in the customer dataset compared to the general population, and what kinds of people are typified by these clusters?"
   ]
  },
  {
   "cell_type": "code",
   "execution_count": null,
   "metadata": {},
   "outputs": [],
   "source": [
    "# Compare the proportion of data in each cluster for the customer data to the\n",
    "# proportion of data in each cluster for the general population.\n",
    "\n"
   ]
  },
  {
   "cell_type": "code",
   "execution_count": null,
   "metadata": {},
   "outputs": [],
   "source": [
    "# What kinds of people are part of a cluster that is overrepresented in the\n",
    "# customer data compared to the general population?\n",
    "\n"
   ]
  },
  {
   "cell_type": "code",
   "execution_count": null,
   "metadata": {},
   "outputs": [],
   "source": [
    "# What kinds of people are part of a cluster that is underrepresented in the\n",
    "# customer data compared to the general population?\n",
    "\n"
   ]
  },
  {
   "cell_type": "markdown",
   "metadata": {},
   "source": [
    "### Discussion 3.3: Compare Customer Data to Demographics Data\n",
    "\n",
    "(Double-click this cell and replace this text with your own text, reporting findings and conclusions from the clustering analysis. Can we describe segments of the population that are relatively popular with the mail-order company, or relatively unpopular with the company?)"
   ]
  },
  {
   "cell_type": "markdown",
   "metadata": {},
   "source": [
    "> Congratulations on making it this far in the project! Before you finish, make sure to check through the entire notebook from top to bottom to make sure that your analysis follows a logical flow and all of your findings are documented in **Discussion** cells. Once you've checked over all of your work, you should export the notebook as an HTML document to submit for evaluation. You can do this from the menu, navigating to **File -> Download as -> HTML (.html)**. You will submit both that document and this notebook for your project submission."
   ]
  },
  {
   "cell_type": "code",
   "execution_count": null,
   "metadata": {},
   "outputs": [],
   "source": []
  }
 ],
 "metadata": {
  "kernelspec": {
   "display_name": "Python 3",
   "language": "python",
   "name": "python3"
  },
  "language_info": {
   "codemirror_mode": {
    "name": "ipython",
    "version": 3
   },
   "file_extension": ".py",
   "mimetype": "text/x-python",
   "name": "python",
   "nbconvert_exporter": "python",
   "pygments_lexer": "ipython3",
   "version": "3.6.3"
  }
 },
 "nbformat": 4,
 "nbformat_minor": 2
}
